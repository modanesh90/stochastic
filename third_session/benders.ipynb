{
 "cells": [
  {
   "cell_type": "code",
   "execution_count": 1,
   "id": "b2b8f2af",
   "metadata": {},
   "outputs": [],
   "source": [
    "import sys\n",
    "import pickle\n",
    "import docplex.mp"
   ]
  },
  {
   "cell_type": "code",
   "execution_count": 2,
   "id": "ba2a12bc",
   "metadata": {},
   "outputs": [],
   "source": [
    "d1 = 25\n",
    "d2 = 35\n",
    "with open(\"cost.txt\", \"rb\") as fp:   # Unpickling\n",
    "    Costs = pickle.load(fp)"
   ]
  },
  {
   "cell_type": "code",
   "execution_count": 3,
   "id": "d8af463c",
   "metadata": {},
   "outputs": [],
   "source": [
    "R1 = range(1,d1)\n",
    "R2 = range(1,d2);\n",
    "\n",
    "dim  = range(1,d1*d2+1)"
   ]
  },
  {
   "cell_type": "code",
   "execution_count": 4,
   "id": "4476142f",
   "metadata": {},
   "outputs": [],
   "source": [
    "# first import the Model class from docplex.mp\n",
    "from docplex.mp.model import Model\n",
    "\n",
    "m = Model(name='benders', log_output=True)"
   ]
  },
  {
   "cell_type": "code",
   "execution_count": 5,
   "id": "22b07f7c",
   "metadata": {},
   "outputs": [],
   "source": [
    "X = m.continuous_var_dict([(i,j) for i in R2 for j in R1])\n",
    "Y = m.integer_var_dict(R1, 0, 1)\n",
    "\n",
    "\n",
    "bendersPartition = {(i,j) : i for i in R2 for j in R1}"
   ]
  },
  {
   "cell_type": "code",
   "execution_count": 6,
   "id": "a6edcdae",
   "metadata": {},
   "outputs": [
    {
     "data": {
      "text/latex": [
       "$$ min \\sum\\limits_{j\\in R1, i\\in R2} cost_{ij}x_{ij}+ \\sum\\limits_{j \\in R1} y_i$$\n",
       "$$\\sum\\limits_{j\\in R1} x_{ij} = 1 \\;\\;\\; \\forall i \\in R2$$\n",
       "$$x_{ij} - y_j \\leq 0 \\;\\;\\; \\forall j \\in R1$$\n",
       "$$y_j \\in \\{0,\\;1\\},\\; x_{ij}\\in R,\\;\\;\\forall j \\in R1,\\;\\;\\forall i \\in R2$$\n"
      ],
      "text/plain": [
       "<IPython.core.display.Latex object>"
      ]
     },
     "metadata": {},
     "output_type": "display_data"
    }
   ],
   "source": [
    "%%latex\n",
    "$$ min \\sum\\limits_{j\\in R1, i\\in R2} cost_{ij}x_{ij}+ \\sum\\limits_{j \\in R1} y_i$$\n",
    "$$\\sum\\limits_{j\\in R1} x_{ij} = 1 \\;\\;\\; \\forall i \\in R2$$\n",
    "$$x_{ij} - y_j \\leq 0 \\;\\;\\; \\forall j \\in R1$$\n",
    "$$y_j \\in \\{0,\\;1\\},\\; x_{ij}\\in R,\\;\\;\\forall j \\in R1,\\;\\;\\forall i \\in R2$$"
   ]
  },
  {
   "cell_type": "code",
   "execution_count": 7,
   "id": "4e3b86b0",
   "metadata": {},
   "outputs": [
    {
     "name": "stdout",
     "output_type": "stream",
     "text": [
      "Model: benders\n",
      " - number of variables: 840\n",
      "   - binary=0, integer=24, continuous=816\n",
      " - number of constraints: 850\n",
      "   - linear=850\n",
      " - parameters: defaults\n",
      " - objective: minimize\n",
      " - problem type is: MILP\n"
     ]
    }
   ],
   "source": [
    "m.minimize( m.sum( Costs[i][j]*X[i,j] for i in R2 for j in R1) + sum(Y[i] for i in R1) )\n",
    "\n",
    "m.add_constraints( m.sum( X[i,j] for j in R1) ==1 for i in R2)\n",
    "    \n",
    "m.add_constraints( X[i,j] - Y[j] <= 0 for i in R2 for j in R1)\n",
    "\n",
    "m.print_information()"
   ]
  },
  {
   "cell_type": "code",
   "execution_count": 8,
   "id": "ea02e343",
   "metadata": {},
   "outputs": [],
   "source": [
    "# specifies to CPLEX how you want to apply Benders algorithm as a strategy to solve your model\n",
    "m.parameters.benders.strategy = 3  # <-1, OFF>, <0, AUTO>, <1, USER>, <2, WORKERS>, <3, FULL>"
   ]
  },
  {
   "cell_type": "code",
   "execution_count": 18,
   "id": "112d0bdf",
   "metadata": {},
   "outputs": [
    {
     "data": {
      "text/latex": [
       "-1 OFF Execute conventional branch and bound; ignore any Benders annotations. That is, do not use Benders algorithm even if a Benders partition of the current model is present.\\newline\n",
       "0 AUTO default Let CPLEX decide.\\newline\n",
       "1 USER: CPLEX attempts to decompose your model strictly according to your annotations.\n",
       "2 WORKERS: CPLEX decomposes your model by using your annotations as hints and refining the decomposition where it can.\n",
       "CPLEX initially decomposes your model according to your annotations.\n",
       "CPLEX then attempts to refine that decomposition by further decomposing the specified subproblems.\n",
       "This approach can be useful if you annotate certain variables to go into master, and all others to go into a single subproblem, which CPLEX can then decompose further for you.\n",
       "3 FULL: CPLEX automatically decomposes your model, ignoring any annotations you may have supplied.\n",
       "CPLEX puts all integer variables into the master.\n",
       "CPLEX puts all continuous variables into a subproblem.\n",
       "CPLEX further decomposes that subproblem, if possible.\n"
      ],
      "text/plain": [
       "<IPython.core.display.Latex object>"
      ]
     },
     "metadata": {},
     "output_type": "display_data"
    }
   ],
   "source": [
    "%%latex\n",
    "-1 OFF Execute conventional branch and bound; ignore any Benders annotations. That is, do not use Benders algorithm even if a Benders partition of the current model is present.\n",
    "0 AUTO default Let CPLEX decide.\n",
    "1 USER: CPLEX attempts to decompose your model strictly according to your annotations.\n",
    "2 WORKERS: CPLEX decomposes your model by using your annotations as hints and refining the decomposition where it can.\n",
    "CPLEX initially decomposes your model according to your annotations.\n",
    "CPLEX then attempts to refine that decomposition by further decomposing the specified subproblems.\n",
    "This approach can be useful if you annotate certain variables to go into master, and all others to go into a single subproblem, which CPLEX can then decompose further for you.\n",
    "3 FULL: CPLEX automatically decomposes your model, ignoring any annotations you may have supplied.\n",
    "CPLEX puts all integer variables into the master.\n",
    "CPLEX puts all continuous variables into a subproblem.\n",
    "CPLEX further decomposes that subproblem, if possible."
   ]
  },
  {
   "cell_type": "code",
   "execution_count": 9,
   "id": "efe9e3ce",
   "metadata": {},
   "outputs": [
    {
     "name": "stdout",
     "output_type": "stream",
     "text": [
      "Version identifier: 12.10.0.0 | 2019-11-26 | 843d4de2ae\n",
      "CPXPARAM_Read_DataCheck                          1\n",
      "CPXPARAM_Benders_Strategy                        3\n",
      "Found incumbent of value 494.000000 after 0.00 sec. (0.07 ticks)\n",
      "Tried aggregator 1 time.\n",
      "Reduced MIP has 850 rows, 840 columns, and 2448 nonzeros.\n",
      "Reduced MIP has 24 binaries, 0 generals, 0 SOSs, and 0 indicators.\n",
      "Presolve time = 0.00 sec. (1.00 ticks)\n",
      "Tried aggregator 1 time.\n",
      "Reduced MIP has 850 rows, 840 columns, and 2448 nonzeros.\n",
      "Reduced MIP has 24 binaries, 0 generals, 0 SOSs, and 0 indicators.\n",
      "Presolve time = 0.02 sec. (0.93 ticks)\n",
      "\n",
      "        Nodes                                         Cuts/\n",
      "   Node  Left     Objective  IInf  Best Integer    Best Bound    ItCnt     Gap\n",
      "\n",
      "      0     0        0.0000            494.0000    Benders: 2        0  100.00%\n",
      "      0     0        4.0000            494.0000    Benders: 7        2   99.19%\n",
      "      0     0       12.8125            494.0000    Benders: 3       13   97.41%\n",
      "      0     0       15.8333            494.0000   Benders: 13       17   96.79%\n",
      "      0     0       29.8241            494.0000    Benders: 6       36   93.96%\n",
      "      0     0       36.2262            494.0000    Benders: 2       48   92.67%\n",
      "      0     0       36.3929            494.0000    Benders: 7       50   92.63%\n",
      "      0     0       39.5000            494.0000    Benders: 1       57   92.00%\n",
      "      0     0       40.5000            494.0000    Benders: 5       58   91.80%\n",
      "      0     0       45.0000            494.0000       45.0000       64   90.89%\n",
      "Tried aggregator 1 time.\n",
      "MIP Presolve eliminated 8 rows and 0 columns.\n",
      "Reduced MIP has 19 rows, 58 columns, and 47 nonzeros.\n",
      "Reduced MIP has 24 binaries, 0 generals, 0 SOSs, and 0 indicators.\n",
      "Presolve time = 0.00 sec. (0.02 ticks)\n",
      "Probing time = 0.00 sec. (0.00 ticks)\n",
      "Tried aggregator 1 time.\n",
      "Reduced MIP has 19 rows, 58 columns, and 47 nonzeros.\n",
      "Reduced MIP has 24 binaries, 0 generals, 0 SOSs, and 0 indicators.\n",
      "Presolve time = 0.02 sec. (0.02 ticks)\n",
      "Probing time = 0.00 sec. (0.00 ticks)\n",
      "MIP emphasis: balance optimality and feasibility.\n",
      "MIP search method: dynamic search.\n",
      "Parallel mode: deterministic, using up to 32 threads.\n",
      "Root relaxation solution time = 0.00 sec. (0.03 ticks)\n",
      "*     0+    0                           45.0000       45.0000             0.00%\n",
      "      0     0        cutoff             45.0000                     83    0.00%\n",
      "\n",
      "Benders cuts applied:  27\n",
      "\n",
      "Root node processing (before b&c):\n",
      "  Real time             =    0.06 sec. (7.88 ticks)\n",
      "Parallel b&c, 32 threads:\n",
      "  Real time             =    0.00 sec. (0.00 ticks)\n",
      "  Sync time (average)   =    0.00 sec.\n",
      "  Wait time (average)   =    0.00 sec.\n",
      "                          ------------\n",
      "Total (root+branch&cut) =    0.06 sec. (7.88 ticks)\n",
      "* model benders solved with objective = 45.000\n"
     ]
    }
   ],
   "source": [
    "msol = m.solve(clean_before_solve=True)\n",
    "m.report()"
   ]
  },
  {
   "cell_type": "code",
   "execution_count": 10,
   "id": "feb261eb",
   "metadata": {},
   "outputs": [],
   "source": [
    "m.parameters.benders.strategy = 1\n",
    "for i in R2:\n",
    "    for j in R1:\n",
    "        X[i,j].benders_annotation =  i%2"
   ]
  },
  {
   "cell_type": "code",
   "execution_count": 11,
   "id": "d7a9213a",
   "metadata": {},
   "outputs": [
    {
     "name": "stdout",
     "output_type": "stream",
     "text": [
      "Version identifier: 12.10.0.0 | 2019-11-26 | 843d4de2ae\n",
      "CPXPARAM_Read_DataCheck                          1\n",
      "CPXPARAM_Benders_Strategy                        1\n",
      "Found incumbent of value 494.000000 after 0.00 sec. (0.07 ticks)\n",
      "Tried aggregator 1 time.\n",
      "Reduced MIP has 850 rows, 840 columns, and 2448 nonzeros.\n",
      "Reduced MIP has 24 binaries, 0 generals, 0 SOSs, and 0 indicators.\n",
      "Presolve time = 0.00 sec. (1.00 ticks)\n",
      "Tried aggregator 1 time.\n",
      "Reduced MIP has 850 rows, 840 columns, and 2448 nonzeros.\n",
      "Reduced MIP has 24 binaries, 0 generals, 0 SOSs, and 0 indicators.\n",
      "Presolve time = 0.00 sec. (0.93 ticks)\n",
      "\n",
      "        Nodes                                         Cuts/\n",
      "   Node  Left     Objective  IInf  Best Integer    Best Bound    ItCnt     Gap\n",
      "\n",
      "      0     0       24.0000            494.0000    Benders: 1       21   95.14%\n",
      "      0     0       26.4615            494.0000    Benders: 1       25   94.64%\n",
      "      0     0       30.7500            494.0000    Benders: 1       31   93.78%\n",
      "      0     0       37.2500            494.0000    Benders: 1       35   92.46%\n",
      "      0     0       41.5000            494.0000    Benders: 1       39   91.60%\n",
      "      0     0       41.9167            494.0000    Benders: 1       41   91.51%\n",
      "      0     0       43.8333            494.0000    Benders: 1       44   91.13%\n",
      "      0     0       44.6500            494.0000    Benders: 1       46   90.96%\n",
      "      0     0       44.7500            494.0000    Benders: 1       48   90.94%\n",
      "      0     0       44.9000            494.0000    Benders: 1       49   90.91%\n",
      "      0     0       45.0000            494.0000       45.0000       50   90.89%\n",
      "Tried aggregator 1 time.\n",
      "Reduced MIP has 430 rows, 433 columns, and 1269 nonzeros.\n",
      "Reduced MIP has 24 binaries, 0 generals, 0 SOSs, and 0 indicators.\n",
      "Presolve time = 0.00 sec. (0.43 ticks)\n",
      "Probing time = 0.00 sec. (0.06 ticks)\n",
      "Tried aggregator 1 time.\n",
      "Reduced MIP has 430 rows, 433 columns, and 1269 nonzeros.\n",
      "Reduced MIP has 24 binaries, 0 generals, 0 SOSs, and 0 indicators.\n",
      "Presolve time = 0.02 sec. (0.42 ticks)\n",
      "Probing time = 0.00 sec. (0.06 ticks)\n",
      "MIP emphasis: balance optimality and feasibility.\n",
      "MIP search method: dynamic search.\n",
      "Parallel mode: deterministic, using up to 32 threads.\n",
      "Root relaxation solution time = 0.00 sec. (0.28 ticks)\n",
      "*     0+    0                           45.0000       45.0000             0.00%\n",
      "      0     0        cutoff             45.0000                     67    0.00%\n",
      "\n",
      "Benders cuts applied:  5\n",
      "\n",
      "Root node processing (before b&c):\n",
      "  Real time             =    0.05 sec. (10.71 ticks)\n",
      "Parallel b&c, 32 threads:\n",
      "  Real time             =    0.00 sec. (0.00 ticks)\n",
      "  Sync time (average)   =    0.00 sec.\n",
      "  Wait time (average)   =    0.00 sec.\n",
      "                          ------------\n",
      "Total (root+branch&cut) =    0.05 sec. (10.71 ticks)\n",
      "* model benders solved with objective = 45.000\n"
     ]
    }
   ],
   "source": [
    "msol = m.solve(clean_before_solve=True)\n",
    "m.report()"
   ]
  },
  {
   "cell_type": "code",
   "execution_count": null,
   "id": "26f27139",
   "metadata": {},
   "outputs": [],
   "source": []
  }
 ],
 "metadata": {
  "kernelspec": {
   "display_name": "Python 3",
   "language": "python",
   "name": "python3"
  },
  "language_info": {
   "codemirror_mode": {
    "name": "ipython",
    "version": 3
   },
   "file_extension": ".py",
   "mimetype": "text/x-python",
   "name": "python",
   "nbconvert_exporter": "python",
   "pygments_lexer": "ipython3",
   "version": "3.7.9"
  }
 },
 "nbformat": 4,
 "nbformat_minor": 5
}
