{
 "cells": [
  {
   "cell_type": "code",
   "execution_count": 1,
   "id": "eb4271da",
   "metadata": {},
   "outputs": [],
   "source": [
    "# imports\n",
    "import pandas as pd\n",
    "import numpy as np\n",
    "import pyomo.environ as pyo\n",
    "from numpy.random import normal\n",
    "import pandas as pd"
   ]
  },
  {
   "cell_type": "code",
   "execution_count": 2,
   "id": "ddec0950",
   "metadata": {},
   "outputs": [],
   "source": [
    "# set solver\n",
    "opt = pyo.SolverFactory('cplex')"
   ]
  },
  {
   "cell_type": "code",
   "execution_count": 3,
   "id": "d84233e5",
   "metadata": {},
   "outputs": [],
   "source": [
    "# define master model\n",
    "master_model = pyo.ConcreteModel()\n",
    "\n",
    "master_model.y = pyo.Var([1, 2], domain=pyo.PositiveReals)\n",
    "master_model.z = pyo.Var([1, 2])\n",
    "\n",
    "master_model.objecitve = pyo.Objective(expr = 100 * master_model.y[1] + 150 * master_model.y[2], sense=pyo.minimize)\n",
    "\n",
    "master_model.constrains_1 = pyo.Constraint(expr = master_model.y[1] + master_model.y[2] <= 120)\n",
    "master_model.constraint_2 = pyo.Constraint(expr = master_model.y[1] >= 40)\n",
    "master_model.constraint_3 = pyo.Constraint(expr = master_model.y[2] >= 20)\n",
    "master_model.cuts = pyo.ConstraintList()"
   ]
  },
  {
   "cell_type": "code",
   "execution_count": 4,
   "id": "8fe00adc",
   "metadata": {},
   "outputs": [],
   "source": [
    "# define sub-problems\n",
    "def sub_problem_generator(master_model, objective_func_coef, first_stage_coef, sec_stage_coef, rhs):\n",
    "    model_sp = pyo.ConcreteModel()    \n",
    "    model_sp.x = pyo.Var([1, 2], domain=pyo.PositiveReals)    \n",
    "    model_sp.objective = pyo.Objective(expr = objective_func_coef[0] * model_sp.x[1] + objective_func_coef[1] *\n",
    "                                       model_sp.x[2], sense=pyo.minimize)    \n",
    "    model_sp.constraint_1 = pyo.Constraint(expr = first_stage_coef[0] * master_model.y[1].value +\n",
    "                                           sec_stage_coef[0][0] * model_sp.x[1] +\n",
    "                                           sec_stage_coef[0][1] * model_sp.x[2] <= rhs[0])    \n",
    "    model_sp.constraint_2 = pyo.Constraint(expr = first_stage_coef[1] * master_model.y[2].value +\n",
    "                                           sec_stage_coef[1][0] * model_sp.x[1] +\n",
    "                                           sec_stage_coef[1][1] * model_sp.x[2] <= rhs[1])    \n",
    "    model_sp.constraint_3 = pyo.Constraint(expr = sec_stage_coef[2][0] * model_sp.x[1] <= rhs[2])    \n",
    "    model_sp.constraint_4 = pyo.Constraint(expr = sec_stage_coef[3][1] * model_sp.x[2] <= rhs[3])    \n",
    "    return model_sp"
   ]
  },
  {
   "cell_type": "code",
   "execution_count": 5,
   "id": "ab986c72",
   "metadata": {},
   "outputs": [],
   "source": [
    "# return the dual variables\n",
    "def dual_variables(model):\n",
    "    duals = []\n",
    "    for constraint in model.component_objects(pyo.Constraint, active=True):\n",
    "        duals.append(model_sp_1.dual[constraint])\n",
    "    return duals "
   ]
  },
  {
   "cell_type": "code",
   "execution_count": 6,
   "id": "fff18492",
   "metadata": {},
   "outputs": [],
   "source": [
    "# define blocks coefficients\n",
    "first_stage_coeff = [-60, -80]\n",
    "second_stage_coeff = [[6, 10],[8, 5],[1, 0],[0, 1]]\n",
    "rhs = [[0, 0, 500, 100], [0, 0, 300, 300]]"
   ]
  },
  {
   "cell_type": "code",
   "execution_count": 7,
   "id": "e5bc3956",
   "metadata": {},
   "outputs": [
    {
     "name": "stdout",
     "output_type": "stream",
     "text": [
      "Model unknown\n",
      "\n",
      "  Variables:\n",
      "    y : Size=2, Index=y_index\n",
      "        Key : Lower : Value : Upper : Fixed : Stale : Domain\n",
      "          1 :     0 :  40.0 :  None : False : False : PositiveReals\n",
      "          2 :     0 :  20.0 :  None : False : False : PositiveReals\n",
      "    z : Size=2, Index=z_index\n",
      "        Key : Lower : Value : Upper : Fixed : Stale : Domain\n",
      "          1 :  None :  None :  None : False :  True :  Reals\n",
      "          2 :  None :  None :  None : False :  True :  Reals\n",
      "\n",
      "  Objectives:\n",
      "    objecitve : Size=1, Index=None, Active=True\n",
      "        Key  : Active : Value\n",
      "        None :   True : 7000.0\n",
      "\n",
      "  Constraints:\n",
      "    constrains_1 : Size=1\n",
      "        Key  : Lower : Body : Upper\n",
      "        None :  None : 60.0 : 120.0\n",
      "    constraint_2 : Size=1\n",
      "        Key  : Lower : Body : Upper\n",
      "        None :  40.0 : 40.0 :  None\n",
      "    constraint_3 : Size=1\n",
      "        Key  : Lower : Body : Upper\n",
      "        None :  20.0 : 20.0 :  None\n",
      "    cuts : Size=0\n",
      "        Key : Lower : Body : Upper\n"
     ]
    }
   ],
   "source": [
    "# solve master problem\n",
    "master_solution = opt.solve(master_model)\n",
    "master_model.display()"
   ]
  },
  {
   "cell_type": "code",
   "execution_count": 8,
   "id": "0cd9e7a3",
   "metadata": {},
   "outputs": [
    {
     "name": "stdout",
     "output_type": "stream",
     "text": [
      "Model unknown\n",
      "\n",
      "  Variables:\n",
      "    x : Size=2, Index=x_index\n",
      "        Key : Lower : Value : Upper : Fixed : Stale : Domain\n",
      "          1 :     0 : 137.5 :  None : False : False : PositiveReals\n",
      "          2 :     0 : 100.0 :  None : False : False : PositiveReals\n",
      "\n",
      "  Objectives:\n",
      "    objective : Size=1, Index=None, Active=True\n",
      "        Key  : Active : Value\n",
      "        None :   True : -6100.0\n",
      "\n",
      "  Constraints:\n",
      "    constraint_1 : Size=1\n",
      "        Key  : Lower : Body   : Upper\n",
      "        None :  None : -575.0 :   0.0\n",
      "    constraint_2 : Size=1\n",
      "        Key  : Lower : Body : Upper\n",
      "        None :  None :  0.0 :   0.0\n",
      "    constraint_3 : Size=1\n",
      "        Key  : Lower : Body  : Upper\n",
      "        None :  None : 137.5 : 500.0\n",
      "    constraint_4 : Size=1\n",
      "        Key  : Lower : Body  : Upper\n",
      "        None :  None : 100.0 : 100.0\n",
      "******************\n",
      "dual : Direction=Suffix.IMPORT, Datatype=Suffix.FLOAT\n",
      "    Key          : Value\n",
      "    constraint_1 :   0.0\n",
      "    constraint_2 :  -3.0\n",
      "    constraint_3 :   0.0\n",
      "    constraint_4 : -13.0\n"
     ]
    }
   ],
   "source": [
    "# solve first sub-problem\n",
    "model_sp_1 = sub_problem_generator(master_model, [-24, -28], first_stage_coeff, second_stage_coeff, rhs[0])\n",
    "model_sp_1.dual = pyo.Suffix(direction=pyo.Suffix.IMPORT)\n",
    "\n",
    "sp_1_solution = opt.solve(model_sp_1)\n",
    "model_sp_1.display()\n",
    "print(\"******************\")\n",
    "model_sp_1.dual.display()\n",
    "\n",
    "                \n",
    "# retrive the dual variables\n",
    "duals = dual_variables(model_sp_1)"
   ]
  },
  {
   "cell_type": "code",
   "execution_count": 9,
   "id": "85a64ad4",
   "metadata": {},
   "outputs": [
    {
     "data": {
      "text/plain": [
       "<pyomo.core.base.constraint._GeneralConstraintData at 0x1e808f62408>"
      ]
     },
     "execution_count": 9,
     "metadata": {},
     "output_type": "execute_result"
    }
   ],
   "source": [
    "# add the cut\n",
    "master_model.cuts.add((-first_stage_coeff[0]) * master_model.y[1] * duals[0] - first_stage_coeff[1] * master_model.y[2]\n",
    "                      * duals[1]  + rhs[0][2] * duals[2] + rhs[0][3] * duals[3] <= master_model.z[1])"
   ]
  },
  {
   "cell_type": "code",
   "execution_count": 10,
   "id": "0a4e9d31",
   "metadata": {},
   "outputs": [
    {
     "data": {
      "text/plain": [
       "<pyomo.core.base.constraint._GeneralConstraintData at 0x1e808f620a8>"
      ]
     },
     "execution_count": 10,
     "metadata": {},
     "output_type": "execute_result"
    }
   ],
   "source": [
    "# solve second sub-problem\n",
    "model_sp_2 = sub_problem_generator(master_model, [-28, -32], first_stage_coeff, second_stage_coeff, rhs[1])\n",
    "model_sp_2.dual = pyo.Suffix(direction=pyo.Suffix.IMPORT)\n",
    "\n",
    "# retrive the dual variables\n",
    "duals = dual_variables(model_sp_1)\n",
    "\n",
    "# add the cut\n",
    "master_model.cuts.add((-first_stage_coeff[0]) * master_model.y[1] * duals[0] - first_stage_coeff[1] * master_model.y[2] \n",
    "                      * duals[1]  + rhs[1][2] * duals[2] + rhs[1][3] * duals[3] <= master_model.z[2])"
   ]
  },
  {
   "cell_type": "code",
   "execution_count": 11,
   "id": "fe2c04c2",
   "metadata": {},
   "outputs": [
    {
     "name": "stdout",
     "output_type": "stream",
     "text": [
      "Model unknown\n",
      "\n",
      "  Variables:\n",
      "    y : Size=2, Index=y_index\n",
      "        Key : Lower : Value : Upper : Fixed : Stale : Domain\n",
      "          1 :     0 :  40.0 :  None : False : False : PositiveReals\n",
      "          2 :     0 :  80.0 :  None : False : False : PositiveReals\n",
      "    z : Size=2, Index=z_index\n",
      "        Key : Lower : Value    : Upper : Fixed : Stale : Domain\n",
      "          1 :  None : -20500.0 :  None : False : False :  Reals\n",
      "          2 :  None : -23100.0 :  None : False : False :  Reals\n",
      "\n",
      "  Objectives:\n",
      "    objecitve : Size=1, Index=None, Active=True\n",
      "        Key  : Active : Value\n",
      "        None :   True : -6060.0\n",
      "\n",
      "  Constraints:\n",
      "    constrains_1 : Size=1\n",
      "        Key  : Lower : Body  : Upper\n",
      "        None :  None : 120.0 : 120.0\n",
      "    constraint_2 : Size=1\n",
      "        Key  : Lower : Body : Upper\n",
      "        None :  40.0 : 40.0 :  None\n",
      "    constraint_3 : Size=1\n",
      "        Key  : Lower : Body : Upper\n",
      "        None :  20.0 : 80.0 :  None\n",
      "    cuts : Size=2\n",
      "        Key : Lower : Body : Upper\n",
      "          1 :  None :  0.0 :   0.0\n",
      "          2 :  None :  0.0 :   0.0\n"
     ]
    }
   ],
   "source": [
    "# resolve the master model\n",
    "master_model.objecitve.expr += 0.4 * master_model.z[1] + 0.6 * master_model.z[2]\n",
    "master_solution = opt.solve(master_model)\n",
    "master_model.display()"
   ]
  }
 ],
 "metadata": {
  "kernelspec": {
   "display_name": "Python 3",
   "language": "python",
   "name": "python3"
  },
  "language_info": {
   "codemirror_mode": {
    "name": "ipython",
    "version": 3
   },
   "file_extension": ".py",
   "mimetype": "text/x-python",
   "name": "python",
   "nbconvert_exporter": "python",
   "pygments_lexer": "ipython3",
   "version": "3.7.9"
  }
 },
 "nbformat": 4,
 "nbformat_minor": 5
}
