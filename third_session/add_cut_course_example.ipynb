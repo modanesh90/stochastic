{
 "cells": [
  {
   "cell_type": "markdown",
   "metadata": {},
   "source": [
    "master problem:\n",
    "$$min\\;\\; 100y_1 + 150y_2 + 0.4z_1 + 0.6z_2$$\n",
    "\n",
    "s.t. \n",
    "\n",
    "$$y_1 + y_2 ≤ 120$$\n",
    "$$y_1 ≥ 40$$\n",
    "$$y_2 ≥ 20$$\n",
    "$$y_1 \\geq 0,\\;\\;y_2 \\geq 0$$\n"
   ]
  },
  {
   "cell_type": "markdown",
   "metadata": {},
   "source": [
    "sub problem:\n",
    "    $$frist \\;\\;\\;scenario:$$\n",
    "$$min\\;\\; −24x_1^1 − 28x_2^1$$\n",
    "$$6x_1^1 + 10x_1^1 ≤ 60 y_1$$\n",
    "$$8x_1^1 + 5x_1^1 ≤ 80 y_2$$\n",
    "$$x_1^1 ≤ 500$$\n",
    "$$x_2^1 \\leq 100$$\n",
    "    $$second \\;\\;\\;scenario:$$\n",
    "$$min\\;\\; −24x_1^2 − 28x_2^2$$\n",
    "$$6x_1^2 + 10x_1^2 ≤ 60 y_1$$\n",
    "$$8x_1^2 + 5x_1^2 ≤ 80 y_2$$\n",
    "$$x_1^2 ≤ 300$$\n",
    "$$x_2^2 \\leq 300$$"
   ]
  },
  {
   "cell_type": "code",
   "execution_count": 1,
   "metadata": {},
   "outputs": [],
   "source": [
    "# imports\n",
    "import pandas as pd\n",
    "import numpy as np\n",
    "import pyomo.environ as pyo\n",
    "from numpy.random import normal\n",
    "import pandas as pd"
   ]
  },
  {
   "cell_type": "code",
   "execution_count": 2,
   "metadata": {},
   "outputs": [],
   "source": [
    "# set solver\n",
    "opt = pyo.SolverFactory('cplex')"
   ]
  },
  {
   "cell_type": "code",
   "execution_count": 3,
   "metadata": {},
   "outputs": [],
   "source": [
    "# define master model\n",
    "master_model = pyo.ConcreteModel()\n",
    "\n",
    "master_model.y = pyo.Var([1, 2], domain=pyo.PositiveReals)\n",
    "master_model.z = pyo.Var([1, 2])\n",
    "\n",
    "master_model.objecitve = pyo.Objective(expr = 100 * master_model.y[1] + 150 * master_model.y[2], sense=pyo.minimize)\n",
    "\n",
    "master_model.constrains_1 = pyo.Constraint(expr = master_model.y[1] + master_model.y[2] <= 120)\n",
    "master_model.constraint_2 = pyo.Constraint(expr = master_model.y[1] >= 40)\n",
    "master_model.constraint_3 = pyo.Constraint(expr = master_model.y[2] >= 20)\n",
    "master_model.cuts = pyo.ConstraintList()"
   ]
  },
  {
   "cell_type": "code",
   "execution_count": 4,
   "metadata": {},
   "outputs": [],
   "source": [
    "# define sub-problems\n",
    "def sub_problem_generator(master_model, objective_func_coef, first_stage_coef, sec_stage_coef, rhs):\n",
    "    model_sp = pyo.ConcreteModel()    \n",
    "    model_sp.x = pyo.Var([1, 2], domain=pyo.PositiveReals)    \n",
    "    model_sp.objective = pyo.Objective(expr = objective_func_coef[0] * model_sp.x[1] + objective_func_coef[1] *\n",
    "                                       model_sp.x[2], sense=pyo.minimize)    \n",
    "    model_sp.constraint_1 = pyo.Constraint(expr = first_stage_coef[0] * master_model.y[1].value +\n",
    "                                           sec_stage_coef[0][0] * model_sp.x[1] +\n",
    "                                           sec_stage_coef[0][1] * model_sp.x[2] <= rhs[0])    \n",
    "    model_sp.constraint_2 = pyo.Constraint(expr = first_stage_coef[1] * master_model.y[2].value +\n",
    "                                           sec_stage_coef[1][0] * model_sp.x[1] +\n",
    "                                           sec_stage_coef[1][1] * model_sp.x[2] <= rhs[1])    \n",
    "    model_sp.constraint_3 = pyo.Constraint(expr = sec_stage_coef[2][0] * model_sp.x[1] <= rhs[2])    \n",
    "    model_sp.constraint_4 = pyo.Constraint(expr = sec_stage_coef[3][1] * model_sp.x[2] <= rhs[3])    \n",
    "    return model_sp"
   ]
  },
  {
   "cell_type": "code",
   "execution_count": 5,
   "metadata": {},
   "outputs": [],
   "source": [
    "# return the dual variables\n",
    "def dual_variables(model):\n",
    "    duals = []\n",
    "    for constraint in model.component_objects(pyo.Constraint, active=True):\n",
    "        duals.append(model.dual[constraint])\n",
    "    return duals "
   ]
  },
  {
   "cell_type": "code",
   "execution_count": 6,
   "metadata": {},
   "outputs": [],
   "source": [
    "# define blocks coefficients\n",
    "first_stage_coeff = [-60, -80]\n",
    "second_stage_coeff = [[6, 10],[8, 5],[1, 0],[0, 1]]\n",
    "rhs = [[0, 0, 500, 100], [0, 0, 300, 300]]"
   ]
  },
  {
   "cell_type": "code",
   "execution_count": 7,
   "metadata": {},
   "outputs": [
    {
     "name": "stdout",
     "output_type": "stream",
     "text": [
      "Model unknown\n",
      "\n",
      "  Variables:\n",
      "    y : Size=2, Index=y_index\n",
      "        Key : Lower : Value : Upper : Fixed : Stale : Domain\n",
      "          1 :     0 :  40.0 :  None : False : False : PositiveReals\n",
      "          2 :     0 :  20.0 :  None : False : False : PositiveReals\n",
      "    z : Size=2, Index=z_index\n",
      "        Key : Lower : Value : Upper : Fixed : Stale : Domain\n",
      "          1 :  None :  None :  None : False :  True :  Reals\n",
      "          2 :  None :  None :  None : False :  True :  Reals\n",
      "\n",
      "  Objectives:\n",
      "    objecitve : Size=1, Index=None, Active=True\n",
      "        Key  : Active : Value\n",
      "        None :   True : 7000.0\n",
      "\n",
      "  Constraints:\n",
      "    constrains_1 : Size=1\n",
      "        Key  : Lower : Body : Upper\n",
      "        None :  None : 60.0 : 120.0\n",
      "    constraint_2 : Size=1\n",
      "        Key  : Lower : Body : Upper\n",
      "        None :  40.0 : 40.0 :  None\n",
      "    constraint_3 : Size=1\n",
      "        Key  : Lower : Body : Upper\n",
      "        None :  20.0 : 20.0 :  None\n",
      "    cuts : Size=0\n",
      "        Key : Lower : Body : Upper\n"
     ]
    }
   ],
   "source": [
    "# solve master problem\n",
    "master_solution = opt.solve(master_model)\n",
    "master_model.display()"
   ]
  },
  {
   "cell_type": "code",
   "execution_count": 8,
   "metadata": {},
   "outputs": [
    {
     "name": "stdout",
     "output_type": "stream",
     "text": [
      "Model unknown\n",
      "\n",
      "  Variables:\n",
      "    x : Size=2, Index=x_index\n",
      "        Key : Lower : Value : Upper : Fixed : Stale : Domain\n",
      "          1 :     0 : 137.5 :  None : False : False : PositiveReals\n",
      "          2 :     0 : 100.0 :  None : False : False : PositiveReals\n",
      "\n",
      "  Objectives:\n",
      "    objective : Size=1, Index=None, Active=True\n",
      "        Key  : Active : Value\n",
      "        None :   True : -6100.0\n",
      "\n",
      "  Constraints:\n",
      "    constraint_1 : Size=1\n",
      "        Key  : Lower : Body   : Upper\n",
      "        None :  None : -575.0 :   0.0\n",
      "    constraint_2 : Size=1\n",
      "        Key  : Lower : Body : Upper\n",
      "        None :  None :  0.0 :   0.0\n",
      "    constraint_3 : Size=1\n",
      "        Key  : Lower : Body  : Upper\n",
      "        None :  None : 137.5 : 500.0\n",
      "    constraint_4 : Size=1\n",
      "        Key  : Lower : Body  : Upper\n",
      "        None :  None : 100.0 : 100.0\n",
      "******************\n",
      "dual : Direction=Suffix.IMPORT, Datatype=Suffix.FLOAT\n",
      "    Key          : Value\n",
      "    constraint_1 :   0.0\n",
      "    constraint_2 :  -3.0\n",
      "    constraint_3 :   0.0\n",
      "    constraint_4 : -13.0\n"
     ]
    }
   ],
   "source": [
    "# solve first sub-problem\n",
    "model_sp_1 = sub_problem_generator(master_model, [-24, -28], first_stage_coeff, second_stage_coeff, rhs[0])\n",
    "model_sp_1.dual = pyo.Suffix(direction=pyo.Suffix.IMPORT)\n",
    "\n",
    "sp_1_solution = opt.solve(model_sp_1)\n",
    "model_sp_1.display()\n",
    "print(\"******************\")\n",
    "model_sp_1.dual.display()\n",
    "\n",
    "                \n",
    "# retrive the dual variables\n",
    "duals = dual_variables(model_sp_1)"
   ]
  },
  {
   "cell_type": "code",
   "execution_count": 9,
   "metadata": {},
   "outputs": [
    {
     "data": {
      "text/plain": [
       "<pyomo.core.base.constraint._GeneralConstraintData at 0x1f3097c8ee0>"
      ]
     },
     "execution_count": 9,
     "metadata": {},
     "output_type": "execute_result"
    }
   ],
   "source": [
    "# add the cut\n",
    "master_model.cuts.add((-first_stage_coeff[0]) * master_model.y[1] * duals[0] - first_stage_coeff[1] * master_model.y[2]\n",
    "                      * duals[1]  + rhs[0][2] * duals[2] + rhs[0][3] * duals[3] <= master_model.z[1])"
   ]
  },
  {
   "cell_type": "code",
   "execution_count": 11,
   "metadata": {},
   "outputs": [
    {
     "name": "stdout",
     "output_type": "stream",
     "text": [
      "Model unknown\n",
      "\n",
      "  Variables:\n",
      "    x : Size=2, Index=x_index\n",
      "        Key : Lower : Value : Upper : Fixed : Stale : Domain\n",
      "          1 :     0 :  80.0 :  None : False : False : PositiveReals\n",
      "          2 :     0 : 192.0 :  None : False : False : PositiveReals\n",
      "\n",
      "  Objectives:\n",
      "    objective : Size=1, Index=None, Active=True\n",
      "        Key  : Active : Value\n",
      "        None :   True : -8384.0\n",
      "\n",
      "  Constraints:\n",
      "    constraint_1 : Size=1\n",
      "        Key  : Lower : Body : Upper\n",
      "        None :  None :  0.0 :   0.0\n",
      "    constraint_2 : Size=1\n",
      "        Key  : Lower : Body : Upper\n",
      "        None :  None :  0.0 :   0.0\n",
      "    constraint_3 : Size=1\n",
      "        Key  : Lower : Body : Upper\n",
      "        None :  None : 80.0 : 300.0\n",
      "    constraint_4 : Size=1\n",
      "        Key  : Lower : Body  : Upper\n",
      "        None :  None : 192.0 : 300.0\n",
      "******************\n",
      "dual : Direction=Suffix.IMPORT, Datatype=Suffix.FLOAT\n",
      "    Key          : Value\n",
      "    constraint_1 : -2.3200000000000003\n",
      "    constraint_2 : -1.7600000000000002\n",
      "    constraint_3 :                 0.0\n",
      "    constraint_4 :                 0.0\n"
     ]
    },
    {
     "data": {
      "text/plain": [
       "<pyomo.core.base.constraint._GeneralConstraintData at 0x1f3097f2b80>"
      ]
     },
     "execution_count": 11,
     "metadata": {},
     "output_type": "execute_result"
    }
   ],
   "source": [
    "# solve second sub-problem\n",
    "model_sp_2 = sub_problem_generator(master_model, [-28, -32], first_stage_coeff, second_stage_coeff, rhs[1])\n",
    "model_sp_2.dual = pyo.Suffix(direction=pyo.Suffix.IMPORT)\n",
    "\n",
    "sp_2_solution = opt.solve(model_sp_2)\n",
    "model_sp_2.display()\n",
    "print(\"******************\")\n",
    "model_sp_2.dual.display()\n",
    "\n",
    "# retrive the dual variables\n",
    "duals = dual_variables(model_sp_2)\n",
    "\n",
    "# add the cut\n",
    "master_model.cuts.add((-first_stage_coeff[0]) * master_model.y[1] * duals[0] - first_stage_coeff[1] * master_model.y[2] \n",
    "                      * duals[1]  + rhs[1][2] * duals[2] + rhs[1][3] * duals[3] <= master_model.z[2])"
   ]
  },
  {
   "cell_type": "code",
   "execution_count": 12,
   "metadata": {},
   "outputs": [
    {
     "name": "stdout",
     "output_type": "stream",
     "text": [
      "Model unknown\n",
      "\n",
      "  Variables:\n",
      "    y : Size=2, Index=y_index\n",
      "        Key : Lower : Value : Upper : Fixed : Stale : Domain\n",
      "          1 :     0 :  40.0 :  None : False : False : PositiveReals\n",
      "          2 :     0 :  80.0 :  None : False : False : PositiveReals\n",
      "    z : Size=2, Index=z_index\n",
      "        Key : Lower : Value    : Upper : Fixed : Stale : Domain\n",
      "          1 :  None : -20500.0 :  None : False : False :  Reals\n",
      "          2 :  None : -16832.0 :  None : False : False :  Reals\n",
      "\n",
      "  Objectives:\n",
      "    objecitve : Size=1, Index=None, Active=True\n",
      "        Key  : Active : Value\n",
      "        None :   True : -2299.199999999999\n",
      "\n",
      "  Constraints:\n",
      "    constrains_1 : Size=1\n",
      "        Key  : Lower : Body  : Upper\n",
      "        None :  None : 120.0 : 120.0\n",
      "    constraint_2 : Size=1\n",
      "        Key  : Lower : Body : Upper\n",
      "        None :  40.0 : 40.0 :  None\n",
      "    constraint_3 : Size=1\n",
      "        Key  : Lower : Body : Upper\n",
      "        None :  20.0 : 80.0 :  None\n",
      "    cuts : Size=2\n",
      "        Key : Lower : Body : Upper\n",
      "          1 :  None :  0.0 :   0.0\n",
      "          2 :  None :  0.0 :   0.0\n"
     ]
    }
   ],
   "source": [
    "# resolve the master model\n",
    "master_model.objecitve.expr += 0.4 * master_model.z[1] + 0.6 * master_model.z[2]\n",
    "master_solution = opt.solve(master_model)\n",
    "master_model.display()"
   ]
  },
  {
   "cell_type": "code",
   "execution_count": 13,
   "metadata": {},
   "outputs": [
    {
     "name": "stdout",
     "output_type": "stream",
     "text": [
      "cuts : Size=2, Index=cuts_index, Active=True\n",
      "    Key : Lower : Body                                         : Upper : Active\n",
      "      1 :  -Inf :                  -240.0*y[2] - 1300.0 - z[1] :   0.0 :   True\n",
      "      2 :  -Inf : -139.20000000000002*y[1] - 140.8*y[2] - z[2] :   0.0 :   True\n"
     ]
    }
   ],
   "source": [
    "master_model.cuts.pprint()"
   ]
  }
 ],
 "metadata": {
  "kernelspec": {
   "display_name": "Python 3",
   "language": "python",
   "name": "python3"
  },
  "language_info": {
   "codemirror_mode": {
    "name": "ipython",
    "version": 3
   },
   "file_extension": ".py",
   "mimetype": "text/x-python",
   "name": "python",
   "nbconvert_exporter": "python",
   "pygments_lexer": "ipython3",
   "version": "3.8.3"
  }
 },
 "nbformat": 4,
 "nbformat_minor": 5
}
