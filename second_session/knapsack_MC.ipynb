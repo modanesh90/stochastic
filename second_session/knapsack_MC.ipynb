{
 "cells": [
  {
   "cell_type": "code",
   "execution_count": 1,
   "metadata": {},
   "outputs": [],
   "source": [
    "import pandas as pd\n",
    "import numpy as np\n",
    "import pyomo.environ as pyo\n",
    "from numpy.random import normal"
   ]
  },
  {
   "cell_type": "code",
   "execution_count": 2,
   "metadata": {},
   "outputs": [
    {
     "name": "stdout",
     "output_type": "stream",
     "text": [
      "     name  value  weight_mean  weight_std\n",
      "0    gold    100          4.0         0.1\n",
      "1  silver     90          2.8         0.4\n",
      "2  bronze     70          2.2         0.3\n"
     ]
    }
   ],
   "source": [
    "#  weight parameters are uncertain with normal distribution and known mean, standard deviation\n",
    "df = pd.read_csv('knapsack_dataset.csv')  \n",
    "print(df)"
   ]
  },
  {
   "cell_type": "code",
   "execution_count": 3,
   "metadata": {},
   "outputs": [],
   "source": [
    "knapsack_capacity = 6"
   ]
  },
  {
   "cell_type": "code",
   "execution_count": 4,
   "metadata": {},
   "outputs": [
    {
     "data": {
      "text/latex": [
       "Binary Knapsack problem with uncertainty in the weight of items. In this problem we assume that the weight of items are known\n",
       "only after we made our decisions.\n",
       "$$\\max \\sum\\limits_{s\\in S}p_s\\sum\\limits_{i = 1}^n c_i x_i$$\n",
       "$$\\sum\\limits_{i = 1}^n  w^s_i x_i \\leq b,\\; \\forall s \\in S$$\n",
       "$$x_i\\in \\{0, 1\\}\\;\\forall i=1,\\;...,n$$\n"
      ],
      "text/plain": [
       "<IPython.core.display.Latex object>"
      ]
     },
     "metadata": {},
     "output_type": "display_data"
    }
   ],
   "source": [
    "%%latex \n",
    "Binary Knapsack problem with uncertainty in the weight of items. In this problem we assume that the weight of items are known\n",
    "only after we made our decisions.\n",
    "$$\\max \\sum\\limits_{s\\in S}p_s\\sum\\limits_{i = 1}^n c_i x_i$$\n",
    "$$\\sum\\limits_{i = 1}^n  w^s_i x_i \\leq b,\\; \\forall s \\in S$$\n",
    "$$x_i\\in \\{0, 1\\}\\;\\forall i=1,\\;...,n$$"
   ]
  },
  {
   "cell_type": "code",
   "execution_count": 5,
   "metadata": {},
   "outputs": [],
   "source": [
    "# generating scenarios:\n",
    "number_of_scenarios = 128\n",
    "scenarios = normal(df['weight_mean'], df['weight_std'], [number_of_scenarios, len(df)])"
   ]
  },
  {
   "cell_type": "code",
   "execution_count": 6,
   "metadata": {},
   "outputs": [
    {
     "name": "stdout",
     "output_type": "stream",
     "text": [
      "[4.007956268677221, 2.8101288067527816, 2.186436795633365]\n"
     ]
    }
   ],
   "source": [
    "# print average of each parameter value over all scenarios\n",
    "print([np.average(scenarios[:,0]),np.average(scenarios[:,1]),np.average(scenarios[:,2])])"
   ]
  },
  {
   "cell_type": "code",
   "execution_count": 7,
   "metadata": {},
   "outputs": [],
   "source": [
    "def init_weight_param(model, i, j):\n",
    "    return scenarios[i, j]"
   ]
  },
  {
   "cell_type": "code",
   "execution_count": 8,
   "metadata": {},
   "outputs": [],
   "source": [
    "def init_value_param(model, i):\n",
    "    return df.loc[i, 'value']"
   ]
  },
  {
   "cell_type": "code",
   "execution_count": 9,
   "metadata": {},
   "outputs": [],
   "source": [
    "def weight_limit_rule(m, j):\n",
    "    return sum(m.w[j, i] * m.x[i] for i in range(len(df))) <= knapsack_capacity"
   ]
  },
  {
   "cell_type": "code",
   "execution_count": 10,
   "metadata": {},
   "outputs": [],
   "source": [
    "model = pyo.ConcreteModel()"
   ]
  },
  {
   "cell_type": "code",
   "execution_count": 11,
   "metadata": {},
   "outputs": [],
   "source": [
    "# instance definition\n",
    "model.ins_items = pyo.RangeSet(0, len(df)-1)\n",
    "model.ins_scenarios = pyo.RangeSet(0, number_of_scenarios-1)"
   ]
  },
  {
   "cell_type": "code",
   "execution_count": 12,
   "metadata": {},
   "outputs": [],
   "source": [
    "# variable definition\n",
    "model.x = pyo.Var(model.ins_items, domain=pyo.Binary)"
   ]
  },
  {
   "cell_type": "code",
   "execution_count": 13,
   "metadata": {},
   "outputs": [],
   "source": [
    "# parameter defnition\n",
    "model.w = pyo.Param(model.ins_scenarios, model.ins_items,\n",
    "                    initialize=init_weight_param, within=pyo.PositiveReals)\n",
    "model.v = pyo.Param(model.ins_items, initialize=init_value_param, within=pyo.PositiveReals)"
   ]
  },
  {
   "cell_type": "code",
   "execution_count": 14,
   "metadata": {},
   "outputs": [],
   "source": [
    "# objective function definition\n",
    "model.obj = pyo.Objective(expr = sum((1/number_of_scenarios) * sum(model.v[i] * model.x[i] for i in model.ins_items)\n",
    "                          for _ in model.ins_scenarios), sense=pyo.maximize)"
   ]
  },
  {
   "cell_type": "code",
   "execution_count": 15,
   "metadata": {},
   "outputs": [],
   "source": [
    "# constraints definition\n",
    "model.weight_limit_constraints = pyo.Constraint(model.ins_scenarios, rule=weight_limit_rule)"
   ]
  },
  {
   "cell_type": "code",
   "execution_count": 16,
   "metadata": {},
   "outputs": [],
   "source": [
    "# solving the model\n",
    "opt = pyo.SolverFactory('cplex')\n",
    "result = opt.solve(model)"
   ]
  },
  {
   "cell_type": "code",
   "execution_count": 17,
   "metadata": {},
   "outputs": [
    {
     "name": "stdout",
     "output_type": "stream",
     "text": [
      "Model unknown\n",
      "\n",
      "  Variables:\n",
      "    x : Size=3, Index=ins_items\n",
      "        Key : Lower : Value : Upper : Fixed : Stale : Domain\n",
      "          0 :     0 :   1.0 :     1 : False : False : Binary\n",
      "          1 :     0 :   0.0 :     1 : False : False : Binary\n",
      "          2 :     0 :   0.0 :     1 : False : False : Binary\n",
      "\n",
      "  Objectives:\n",
      "    obj : Size=1, Index=None, Active=True\n",
      "        Key  : Active : Value\n",
      "        None :   True : 100.0\n",
      "\n",
      "  Constraints:\n",
      "    weight_limit_constraints : Size=128\n",
      "        Key : Lower : Body               : Upper\n",
      "          0 :  None :   4.11803477819225 :   6.0\n",
      "          1 :  None : 3.8918043985366153 :   6.0\n",
      "          2 :  None :  4.017606917568212 :   6.0\n",
      "          3 :  None :  3.841097847674472 :   6.0\n",
      "          4 :  None : 3.9162796798921833 :   6.0\n",
      "          5 :  None :  4.091632988196975 :   6.0\n",
      "          6 :  None :  4.099727877533985 :   6.0\n",
      "          7 :  None :  3.964126573051243 :   6.0\n",
      "          8 :  None :  4.116533809317629 :   6.0\n",
      "          9 :  None : 3.9542076833978816 :   6.0\n",
      "         10 :  None : 3.8809632929192457 :   6.0\n",
      "         11 :  None :  4.073035302812078 :   6.0\n",
      "         12 :  None : 3.9859090398968418 :   6.0\n",
      "         13 :  None :  4.006776757768251 :   6.0\n",
      "         14 :  None : 3.9665567265275485 :   6.0\n",
      "         15 :  None :  4.053348045238731 :   6.0\n",
      "         16 :  None : 4.1122197766536965 :   6.0\n",
      "         17 :  None :  4.010390819303236 :   6.0\n",
      "         18 :  None :  4.189789288955851 :   6.0\n",
      "         19 :  None : 3.9838134544416626 :   6.0\n",
      "         20 :  None :  3.934880319209945 :   6.0\n",
      "         21 :  None :  4.132438645102778 :   6.0\n",
      "         22 :  None :  4.082835083026345 :   6.0\n",
      "         23 :  None :  3.890694516010458 :   6.0\n",
      "         24 :  None :  4.002825101656182 :   6.0\n",
      "         25 :  None : 3.8443574088134618 :   6.0\n",
      "         26 :  None : 3.9352945687794887 :   6.0\n",
      "         27 :  None :   4.13097411722904 :   6.0\n",
      "         28 :  None : 4.0063898619738865 :   6.0\n",
      "         29 :  None :   4.06320676543304 :   6.0\n",
      "         30 :  None : 3.8625401698334363 :   6.0\n",
      "         31 :  None :  4.017046530977132 :   6.0\n",
      "         32 :  None :  4.123206893322521 :   6.0\n",
      "         33 :  None :  3.900566463244858 :   6.0\n",
      "         34 :  None :  4.006745217103723 :   6.0\n",
      "         35 :  None :  4.001641551873431 :   6.0\n",
      "         36 :  None : 3.8359540746787224 :   6.0\n",
      "         37 :  None :  4.045560806686172 :   6.0\n",
      "         38 :  None : 3.9409992325825676 :   6.0\n",
      "         39 :  None :  4.060228718734561 :   6.0\n",
      "         40 :  None :  3.961638080655407 :   6.0\n",
      "         41 :  None :  3.900994892092311 :   6.0\n",
      "         42 :  None :  4.048362991897458 :   6.0\n",
      "         43 :  None : 4.0412363486480345 :   6.0\n",
      "         44 :  None :  4.027238218764242 :   6.0\n",
      "         45 :  None :  3.993784878892888 :   6.0\n",
      "         46 :  None :  4.086505453852106 :   6.0\n",
      "         47 :  None :  4.099528038306726 :   6.0\n",
      "         48 :  None :  3.773366502099196 :   6.0\n",
      "         49 :  None :  4.034675653818469 :   6.0\n",
      "         50 :  None :  4.134369576913935 :   6.0\n",
      "         51 :  None : 3.8756251055557263 :   6.0\n",
      "         52 :  None :   4.03104079979113 :   6.0\n",
      "         53 :  None : 3.9278090834035084 :   6.0\n",
      "         54 :  None :    4.1288263098291 :   6.0\n",
      "         55 :  None :  3.971510207162536 :   6.0\n",
      "         56 :  None :  3.825648100724536 :   6.0\n",
      "         57 :  None : 3.9546615315980427 :   6.0\n",
      "         58 :  None : 4.0165941219535375 :   6.0\n",
      "         59 :  None : 3.9614907181319445 :   6.0\n",
      "         60 :  None :  4.015265272357575 :   6.0\n",
      "         61 :  None :  4.100149176017963 :   6.0\n",
      "         62 :  None :  4.216572085472422 :   6.0\n",
      "         63 :  None :  4.160348752830382 :   6.0\n",
      "         64 :  None :  4.099470504952762 :   6.0\n",
      "         65 :  None :  4.085082217143187 :   6.0\n",
      "         66 :  None : 3.9459809465271993 :   6.0\n",
      "         67 :  None :  3.932445688572728 :   6.0\n",
      "         68 :  None :   4.03050754329971 :   6.0\n",
      "         69 :  None :  4.035854333830904 :   6.0\n",
      "         70 :  None :  4.108474161226792 :   6.0\n",
      "         71 :  None :  4.183855906701203 :   6.0\n",
      "         72 :  None :  3.957039628128181 :   6.0\n",
      "         73 :  None :  4.070511991830067 :   6.0\n",
      "         74 :  None : 3.9085313432754876 :   6.0\n",
      "         75 :  None :  4.085268172533942 :   6.0\n",
      "         76 :  None :  4.081684917535506 :   6.0\n",
      "         77 :  None :  3.902027131746653 :   6.0\n",
      "         78 :  None :  4.065841714221811 :   6.0\n",
      "         79 :  None : 4.1458364213501095 :   6.0\n",
      "         80 :  None :  4.037530171400075 :   6.0\n",
      "         81 :  None :  4.004849988448973 :   6.0\n",
      "         82 :  None :  3.843055355467355 :   6.0\n",
      "         83 :  None :  4.147739871556417 :   6.0\n",
      "         84 :  None :  4.182640196960239 :   6.0\n",
      "         85 :  None :  3.651358418492462 :   6.0\n",
      "         86 :  None : 3.9714770373708324 :   6.0\n",
      "         87 :  None : 4.2777914013328715 :   6.0\n",
      "         88 :  None :  4.125669932363284 :   6.0\n",
      "         89 :  None :  4.062148925581009 :   6.0\n",
      "         90 :  None :  3.898122506646412 :   6.0\n",
      "         91 :  None :  4.065162701946704 :   6.0\n",
      "         92 :  None :  3.995931609773148 :   6.0\n",
      "         93 :  None :  3.892594535581203 :   6.0\n",
      "         94 :  None :  4.106868695644529 :   6.0\n",
      "         95 :  None :  3.979033237382694 :   6.0\n",
      "         96 :  None : 3.9150176483191834 :   6.0\n",
      "         97 :  None : 3.9919537532160816 :   6.0\n",
      "         98 :  None :  3.997531342974542 :   6.0\n",
      "         99 :  None :  4.075767618217167 :   6.0\n",
      "        100 :  None :  4.117032023818229 :   6.0\n",
      "        101 :  None : 3.9321698385303057 :   6.0\n",
      "        102 :  None : 3.9882794705967366 :   6.0\n",
      "        103 :  None :  3.924969291827056 :   6.0\n",
      "        104 :  None :  4.169080824929005 :   6.0\n",
      "        105 :  None :  3.789027407764063 :   6.0\n",
      "        106 :  None :  3.954234555184661 :   6.0\n",
      "        107 :  None : 3.8427241361326896 :   6.0\n",
      "        108 :  None :  4.060204935315548 :   6.0\n",
      "        109 :  None :  4.099604897471252 :   6.0\n",
      "        110 :  None :  4.182306852198837 :   6.0\n",
      "        111 :  None : 4.1429832693023245 :   6.0\n",
      "        112 :  None :  3.881871795830923 :   6.0\n",
      "        113 :  None :  4.019480026002369 :   6.0\n",
      "        114 :  None :  4.014701526692065 :   6.0\n",
      "        115 :  None : 3.9489887807620767 :   6.0\n",
      "        116 :  None : 3.9066682347001587 :   6.0\n",
      "        117 :  None :  4.062685212757733 :   6.0\n",
      "        118 :  None :  4.038398417408458 :   6.0\n",
      "        119 :  None :   3.88912568660016 :   6.0\n",
      "        120 :  None :   3.93581456267484 :   6.0\n",
      "        121 :  None : 3.8958958311068534 :   6.0\n",
      "        122 :  None :  4.052435505075318 :   6.0\n",
      "        123 :  None : 4.0537477301456075 :   6.0\n",
      "        124 :  None :  3.901632003693319 :   6.0\n",
      "        125 :  None : 3.9379710642955135 :   6.0\n",
      "        126 :  None :  4.134575008623726 :   6.0\n",
      "        127 :  None :  3.901652924773481 :   6.0\n"
     ]
    }
   ],
   "source": [
    "model.display()"
   ]
  }
 ],
 "metadata": {
  "kernelspec": {
   "display_name": "Python 3",
   "language": "python",
   "name": "python3"
  },
  "language_info": {
   "codemirror_mode": {
    "name": "ipython",
    "version": 3
   },
   "file_extension": ".py",
   "mimetype": "text/x-python",
   "name": "python",
   "nbconvert_exporter": "python",
   "pygments_lexer": "ipython3",
   "version": "3.8.3"
  }
 },
 "nbformat": 4,
 "nbformat_minor": 4
}
