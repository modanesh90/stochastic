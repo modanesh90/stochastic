{
 "cells": [
  {
   "cell_type": "code",
   "execution_count": 1,
   "metadata": {},
   "outputs": [],
   "source": [
    "import pandas as pd\n",
    "import numpy as np\n",
    "import pyomo.environ as pyo\n",
    "from numpy.random import normal"
   ]
  },
  {
   "cell_type": "code",
   "execution_count": 2,
   "metadata": {},
   "outputs": [
    {
     "name": "stdout",
     "output_type": "stream",
     "text": [
      "     name  value  weight_mean  weight_std\n",
      "0    gold    100          4.0         0.1\n",
      "1  silver     90          2.8         0.4\n",
      "2  bronze     70          2.2         0.3\n"
     ]
    }
   ],
   "source": [
    "#  weight parameters are uncertain with normal distribution and known mean, standard deviation\n",
    "df = pd.read_csv('knapsack_dataset_uncertain_weight.csv')  \n",
    "print(df)"
   ]
  },
  {
   "cell_type": "code",
   "execution_count": 3,
   "metadata": {},
   "outputs": [],
   "source": [
    "knapsack_capacity = 6"
   ]
  },
  {
   "cell_type": "code",
   "execution_count": 25,
   "metadata": {},
   "outputs": [
    {
     "data": {
      "text/latex": [
       "Binary Knapsack problem with uncertainty in the weight of items. In this problem we assume that the weight of items are known\n",
       "only after we made our decisions.\n",
       "$$\\max \\sum\\limits_{s\\in S}p_s\\sum\\limits_{i = 1}^n v_i x_i\\;\\;\\;\\;[is\\,equivalent\\; to: ]\\max \\sum\\limits_{i = 1}^n v_i x_i$$\n",
       "\n",
       "$$\\sum\\limits_{i = 1}^n  w^s_i x_i \\leq b,\\; \\forall s \\in S$$\n",
       "$$x_i\\in \\{0, 1\\}\\;\\forall i=1,\\;...,n$$\n"
      ],
      "text/plain": [
       "<IPython.core.display.Latex object>"
      ]
     },
     "metadata": {},
     "output_type": "display_data"
    }
   ],
   "source": [
    "%%latex \n",
    "Binary Knapsack problem with uncertainty in the weight of items. In this problem we assume that the weight of items are known\n",
    "only after we made our decisions.\n",
    "$$\\max \\sum\\limits_{s\\in S}p_s\\sum\\limits_{i = 1}^n v_i x_i\\;\\;\\;\\;[is\\,equivalent\\; to: ]\\max \\sum\\limits_{i = 1}^n v_i x_i$$\n",
    "\n",
    "$$\\sum\\limits_{i = 1}^n  w^s_i x_i \\leq b,\\; \\forall s \\in S$$\n",
    "$$x_i\\in \\{0, 1\\}\\;\\forall i=1,\\;...,n$$"
   ]
  },
  {
   "cell_type": "code",
   "execution_count": 5,
   "metadata": {},
   "outputs": [],
   "source": [
    "# generating scenarios:\n",
    "number_of_scenarios = 128\n",
    "scenarios = normal(df['weight_mean'], df['weight_std'], [number_of_scenarios, len(df)])\n",
    "# print(scenarios)"
   ]
  },
  {
   "cell_type": "code",
   "execution_count": 6,
   "metadata": {},
   "outputs": [
    {
     "name": "stdout",
     "output_type": "stream",
     "text": [
      "[3.971166202889311, 2.758793577543864, 2.162014750476906]\n"
     ]
    }
   ],
   "source": [
    "# print average of each parameter value over all scenarios\n",
    "print([np.average(scenarios[:,0]),np.average(scenarios[:,1]),np.average(scenarios[:,2])])"
   ]
  },
  {
   "cell_type": "code",
   "execution_count": 7,
   "metadata": {},
   "outputs": [],
   "source": [
    "def init_weight_param(model, i, j):\n",
    "    return scenarios[i, j]"
   ]
  },
  {
   "cell_type": "code",
   "execution_count": 8,
   "metadata": {},
   "outputs": [],
   "source": [
    "def init_value_param(model, i):\n",
    "    return df.loc[i, 'value']"
   ]
  },
  {
   "cell_type": "code",
   "execution_count": 9,
   "metadata": {},
   "outputs": [],
   "source": [
    "def weight_limit_rule(m, j):\n",
    "    return sum(m.w[j, i] * m.x[i] for i in range(len(df))) <= knapsack_capacity"
   ]
  },
  {
   "cell_type": "code",
   "execution_count": 10,
   "metadata": {},
   "outputs": [],
   "source": [
    "model = pyo.ConcreteModel()"
   ]
  },
  {
   "cell_type": "code",
   "execution_count": 11,
   "metadata": {},
   "outputs": [],
   "source": [
    "# indices definition\n",
    "model.ind_items = pyo.RangeSet(0, len(df)-1)\n",
    "model.ind_scenarios = pyo.RangeSet(0, number_of_scenarios-1)"
   ]
  },
  {
   "cell_type": "code",
   "execution_count": 12,
   "metadata": {},
   "outputs": [],
   "source": [
    "# variable definition\n",
    "model.x = pyo.Var(model.ind_items, domain=pyo.Binary)"
   ]
  },
  {
   "cell_type": "code",
   "execution_count": 13,
   "metadata": {},
   "outputs": [],
   "source": [
    "# parameter defnition\n",
    "model.w = pyo.Param(model.ind_scenarios, model.ind_items,\n",
    "                    initialize=init_weight_param, within=pyo.PositiveReals)\n",
    "model.v = pyo.Param(model.ind_items, initialize=init_value_param, within=pyo.PositiveReals)"
   ]
  },
  {
   "cell_type": "code",
   "execution_count": 14,
   "metadata": {},
   "outputs": [],
   "source": [
    "# objective function definition\n",
    "model.obj = pyo.Objective(expr = sum((1/number_of_scenarios) * sum(model.v[i] * model.x[i] for i in model.ind_items)\n",
    "                          for _ in model.ind_scenarios), sense=pyo.maximize)"
   ]
  },
  {
   "cell_type": "code",
   "execution_count": 15,
   "metadata": {},
   "outputs": [],
   "source": [
    "# constraints definition\n",
    "model.weight_limit_constraints = pyo.Constraint(model.ind_scenarios, rule=weight_limit_rule)"
   ]
  },
  {
   "cell_type": "code",
   "execution_count": 16,
   "metadata": {},
   "outputs": [],
   "source": [
    "# solving the model\n",
    "opt = pyo.SolverFactory('gurobi')\n",
    "result = opt.solve(model)"
   ]
  },
  {
   "cell_type": "code",
   "execution_count": 17,
   "metadata": {},
   "outputs": [
    {
     "name": "stdout",
     "output_type": "stream",
     "text": [
      "Model unknown\n",
      "\n",
      "  Variables:\n",
      "    x : Size=3, Index=ind_items\n",
      "        Key : Lower : Value : Upper : Fixed : Stale : Domain\n",
      "          0 :     0 :   1.0 :     1 : False : False : Binary\n",
      "          1 :     0 :   0.0 :     1 : False : False : Binary\n",
      "          2 :     0 :   0.0 :     1 : False : False : Binary\n",
      "\n",
      "  Objectives:\n",
      "    obj : Size=1, Index=None, Active=True\n",
      "        Key  : Active : Value\n",
      "        None :   True : 100.0\n",
      "\n",
      "  Constraints:\n",
      "    weight_limit_constraints : Size=128\n",
      "        Key : Lower : Body               : Upper\n",
      "          0 :  None :  4.133317731266521 :   6.0\n",
      "          1 :  None : 3.9520823807499825 :   6.0\n",
      "          2 :  None : 3.9418033789227196 :   6.0\n",
      "          3 :  None :  4.000016304786685 :   6.0\n",
      "          4 :  None : 3.9703557934986775 :   6.0\n",
      "          5 :  None : 3.9608421091655055 :   6.0\n",
      "          6 :  None :   4.20110436996213 :   6.0\n",
      "          7 :  None :  4.084039122223338 :   6.0\n",
      "          8 :  None : 3.9269704498821616 :   6.0\n",
      "          9 :  None :  3.740454548514469 :   6.0\n",
      "         10 :  None : 3.9113394618979154 :   6.0\n",
      "         11 :  None : 3.8838677607155683 :   6.0\n",
      "         12 :  None : 3.9962912658122445 :   6.0\n",
      "         13 :  None : 3.8471901481757893 :   6.0\n",
      "         14 :  None :  4.126352820812954 :   6.0\n",
      "         15 :  None : 4.0630555540502895 :   6.0\n",
      "         16 :  None : 3.9534879182237304 :   6.0\n",
      "         17 :  None :  3.932955069616095 :   6.0\n",
      "         18 :  None :  3.936441642710387 :   6.0\n",
      "         19 :  None :  4.090694460263913 :   6.0\n",
      "         20 :  None :  4.068780375332176 :   6.0\n",
      "         21 :  None :  3.929234220035338 :   6.0\n",
      "         22 :  None : 3.9769108149824675 :   6.0\n",
      "         23 :  None : 3.8434796623593854 :   6.0\n",
      "         24 :  None : 3.8198174592933323 :   6.0\n",
      "         25 :  None : 3.9079366366292083 :   6.0\n",
      "         26 :  None :  4.062574629839266 :   6.0\n",
      "         27 :  None :  4.023172807456299 :   6.0\n",
      "         28 :  None : 3.9406418900616433 :   6.0\n",
      "         29 :  None : 3.9065985005327186 :   6.0\n",
      "         30 :  None : 3.8941247357751902 :   6.0\n",
      "         31 :  None :  4.039379058604455 :   6.0\n",
      "         32 :  None :  3.815416007330259 :   6.0\n",
      "         33 :  None : 3.9273669120104686 :   6.0\n",
      "         34 :  None :  4.049341763845945 :   6.0\n",
      "         35 :  None :  3.835799731596299 :   6.0\n",
      "         36 :  None :  4.025796082764259 :   6.0\n",
      "         37 :  None :  4.042845977714906 :   6.0\n",
      "         38 :  None : 3.8872132559745545 :   6.0\n",
      "         39 :  None :  3.968238435718951 :   6.0\n",
      "         40 :  None :  3.908413707646126 :   6.0\n",
      "         41 :  None :  4.164052365649847 :   6.0\n",
      "         42 :  None :  3.906068213028092 :   6.0\n",
      "         43 :  None : 3.8625653136181204 :   6.0\n",
      "         44 :  None : 3.9598199447746683 :   6.0\n",
      "         45 :  None : 3.9446543716782774 :   6.0\n",
      "         46 :  None : 3.9849328765582106 :   6.0\n",
      "         47 :  None :  3.859616269062128 :   6.0\n",
      "         48 :  None : 4.2721507305788435 :   6.0\n",
      "         49 :  None : 3.9364226729236966 :   6.0\n",
      "         50 :  None : 4.0590839152753615 :   6.0\n",
      "         51 :  None :  3.902219613082351 :   6.0\n",
      "         52 :  None :  4.035603539724483 :   6.0\n",
      "         53 :  None :  3.862550146210999 :   6.0\n",
      "         54 :  None : 3.8005154859256014 :   6.0\n",
      "         55 :  None : 4.0118672999403415 :   6.0\n",
      "         56 :  None :  3.939086662101956 :   6.0\n",
      "         57 :  None : 3.9359749657069862 :   6.0\n",
      "         58 :  None : 3.9480055025948433 :   6.0\n",
      "         59 :  None :  3.957961705416809 :   6.0\n",
      "         60 :  None : 3.9092309436720125 :   6.0\n",
      "         61 :  None : 3.9853451486980505 :   6.0\n",
      "         62 :  None :  4.118170165587693 :   6.0\n",
      "         63 :  None :  4.267215773234386 :   6.0\n",
      "         64 :  None : 3.9588519823751813 :   6.0\n",
      "         65 :  None : 3.9534490537697886 :   6.0\n",
      "         66 :  None :  3.942662999230221 :   6.0\n",
      "         67 :  None :  4.041012684763011 :   6.0\n",
      "         68 :  None :  3.985308555093044 :   6.0\n",
      "         69 :  None :  3.710839313769327 :   6.0\n",
      "         70 :  None :  4.074395359095161 :   6.0\n",
      "         71 :  None : 3.9645830388635472 :   6.0\n",
      "         72 :  None : 3.8369537087064267 :   6.0\n",
      "         73 :  None :  4.088476651098098 :   6.0\n",
      "         74 :  None :  3.999954204317732 :   6.0\n",
      "         75 :  None : 3.9444966313164564 :   6.0\n",
      "         76 :  None :  4.001266112194525 :   6.0\n",
      "         77 :  None :  4.052341013834764 :   6.0\n",
      "         78 :  None :  3.997787252576372 :   6.0\n",
      "         79 :  None :  4.139032631116719 :   6.0\n",
      "         80 :  None :  3.692523697211864 :   6.0\n",
      "         81 :  None : 3.8519512983659934 :   6.0\n",
      "         82 :  None :  4.127861773115087 :   6.0\n",
      "         83 :  None :  3.999940085199951 :   6.0\n",
      "         84 :  None : 3.9136464766185757 :   6.0\n",
      "         85 :  None : 3.8218340079429756 :   6.0\n",
      "         86 :  None : 4.1429366091261794 :   6.0\n",
      "         87 :  None :  4.125006986816285 :   6.0\n",
      "         88 :  None : 3.9502281559756076 :   6.0\n",
      "         89 :  None :  4.027441863903078 :   6.0\n",
      "         90 :  None : 3.9819388693160422 :   6.0\n",
      "         91 :  None :  3.857739003011167 :   6.0\n",
      "         92 :  None : 4.0893240360046095 :   6.0\n",
      "         93 :  None :  4.021782672394915 :   6.0\n",
      "         94 :  None :  3.962937864961996 :   6.0\n",
      "         95 :  None :  3.844221421371485 :   6.0\n",
      "         96 :  None :  4.046698403528244 :   6.0\n",
      "         97 :  None : 3.9621611312013925 :   6.0\n",
      "         98 :  None :  4.043471773247113 :   6.0\n",
      "         99 :  None :  3.943762679081086 :   6.0\n",
      "        100 :  None :  4.193173746846215 :   6.0\n",
      "        101 :  None : 3.8349436013996474 :   6.0\n",
      "        102 :  None :  3.913819072054616 :   6.0\n",
      "        103 :  None :  3.843946867966758 :   6.0\n",
      "        104 :  None :  3.963048047064256 :   6.0\n",
      "        105 :  None : 3.9749817548979482 :   6.0\n",
      "        106 :  None : 3.8828648078092494 :   6.0\n",
      "        107 :  None : 3.8311432759781603 :   6.0\n",
      "        108 :  None :  4.042771705581078 :   6.0\n",
      "        109 :  None :  4.046130916990852 :   6.0\n",
      "        110 :  None :  3.915050681205913 :   6.0\n",
      "        111 :  None : 3.9743195955090167 :   6.0\n",
      "        112 :  None : 4.0389725416721065 :   6.0\n",
      "        113 :  None :  4.060846962073607 :   6.0\n",
      "        114 :  None : 3.8306872598620494 :   6.0\n",
      "        115 :  None :  4.027389124646799 :   6.0\n",
      "        116 :  None :  3.838400225506195 :   6.0\n",
      "        117 :  None : 3.8305370096394573 :   6.0\n",
      "        118 :  None : 3.9249342579802375 :   6.0\n",
      "        119 :  None : 3.8873006307414393 :   6.0\n",
      "        120 :  None : 3.9352535486984785 :   6.0\n",
      "        121 :  None :  4.049298659831794 :   6.0\n",
      "        122 :  None :  4.062511681190543 :   6.0\n",
      "        123 :  None : 3.9737974482253686 :   6.0\n",
      "        124 :  None :  4.073321493113521 :   6.0\n",
      "        125 :  None : 3.9745637422371547 :   6.0\n",
      "        126 :  None :  4.045438090738777 :   6.0\n",
      "        127 :  None :  4.092148638058472 :   6.0\n"
     ]
    }
   ],
   "source": [
    "model.display()"
   ]
  },
  {
   "cell_type": "code",
   "execution_count": null,
   "metadata": {},
   "outputs": [],
   "source": []
  },
  {
   "cell_type": "code",
   "execution_count": null,
   "metadata": {},
   "outputs": [],
   "source": []
  }
 ],
 "metadata": {
  "kernelspec": {
   "display_name": "Python 3",
   "language": "python",
   "name": "python3"
  },
  "language_info": {
   "codemirror_mode": {
    "name": "ipython",
    "version": 3
   },
   "file_extension": ".py",
   "mimetype": "text/x-python",
   "name": "python",
   "nbconvert_exporter": "python",
   "pygments_lexer": "ipython3",
   "version": "3.8.3"
  }
 },
 "nbformat": 4,
 "nbformat_minor": 4
}
