{
 "cells": [
  {
   "cell_type": "code",
   "execution_count": 1,
   "metadata": {},
   "outputs": [],
   "source": [
    "import pandas as pd\n",
    "import numpy as np\n",
    "import pyomo.environ as pyo\n",
    "from numpy.random import normal"
   ]
  },
  {
   "cell_type": "code",
   "execution_count": 2,
   "metadata": {},
   "outputs": [
    {
     "name": "stdout",
     "output_type": "stream",
     "text": [
      "     name  value  weight_mean  weight_var\n",
      "0    gold    100          2.0         0.1\n",
      "1  silver     90          1.4         0.4\n",
      "2  bronze     70          1.1         0.3\n"
     ]
    }
   ],
   "source": [
    "df = pd.read_csv('knapsack_dataset.csv')  #  weight parameters are uncertain with normal distribution and known mean, variance\n",
    "print(df)"
   ]
  },
  {
   "cell_type": "code",
   "execution_count": 3,
   "metadata": {},
   "outputs": [],
   "source": [
    "knapsack_capacity = 3"
   ]
  },
  {
   "cell_type": "code",
   "execution_count": 4,
   "metadata": {},
   "outputs": [
    {
     "data": {
      "text/latex": [
       "Binary Knapsack problem with uncertainty in the weight of items. In this problem we assume that the weight of items are known\n",
       "only after we made our decisions.\n",
       "$$\\max \\sum\\limits_{s\\in S}p_s\\sum\\limits_{i = 1}^n c_i x_i$$\n",
       "$$\\sum\\limits_{i = 1}^n  w^s_i x_i \\leq b,\\; \\forall s \\in S$$\n",
       "$$x_i\\in \\{0, 1\\}\\;\\forall i=1,\\;...,n$$\n"
      ],
      "text/plain": [
       "<IPython.core.display.Latex object>"
      ]
     },
     "metadata": {},
     "output_type": "display_data"
    }
   ],
   "source": [
    "%%latex \n",
    "Binary Knapsack problem with uncertainty in the weight of items. In this problem we assume that the weight of items are known\n",
    "only after we made our decisions.\n",
    "$$\\max \\sum\\limits_{s\\in S}p_s\\sum\\limits_{i = 1}^n c_i x_i$$\n",
    "$$\\sum\\limits_{i = 1}^n  w^s_i x_i \\leq b,\\; \\forall s \\in S$$\n",
    "$$x_i\\in \\{0, 1\\}\\;\\forall i=1,\\;...,n$$"
   ]
  },
  {
   "cell_type": "code",
   "execution_count": 5,
   "metadata": {},
   "outputs": [],
   "source": [
    "# generating scenarios:\n",
    "number_of_scenarios = 102\n",
    "scenarios = normal(df['weight_mean'], df['weight_var'], [number_of_scenarios, len(df)])"
   ]
  },
  {
   "cell_type": "code",
   "execution_count": 6,
   "metadata": {},
   "outputs": [
    {
     "name": "stdout",
     "output_type": "stream",
     "text": [
      "[1.9930482017394702, 1.3488436136579165, 1.1055610925262653]\n"
     ]
    }
   ],
   "source": [
    "# print average of each parameter value over all scenarios\n",
    "print([np.average(scenarios[:,0]),np.average(scenarios[:,1]),np.average(scenarios[:,2])])"
   ]
  },
  {
   "cell_type": "code",
   "execution_count": 7,
   "metadata": {},
   "outputs": [],
   "source": [
    "def init_weight_param(model, i, j):\n",
    "    return scenarios[i, j]"
   ]
  },
  {
   "cell_type": "code",
   "execution_count": 8,
   "metadata": {},
   "outputs": [],
   "source": [
    "def init_value_param(model, i):\n",
    "    return df.loc[i, 'value']"
   ]
  },
  {
   "cell_type": "code",
   "execution_count": 9,
   "metadata": {},
   "outputs": [],
   "source": [
    "def weight_limit_rule(m, j):\n",
    "    return sum(m.w[j, i] * m.x[i] for i in range(len(df))) <= knapsack_capacity"
   ]
  },
  {
   "cell_type": "code",
   "execution_count": 10,
   "metadata": {},
   "outputs": [],
   "source": [
    "model = pyo.ConcreteModel()"
   ]
  },
  {
   "cell_type": "code",
   "execution_count": 11,
   "metadata": {},
   "outputs": [],
   "source": [
    "# instance definition\n",
    "model.ins_items = pyo.RangeSet(0, len(df)-1)\n",
    "model.ins_scenarios = pyo.RangeSet(0, number_of_scenarios-1)"
   ]
  },
  {
   "cell_type": "code",
   "execution_count": 12,
   "metadata": {},
   "outputs": [],
   "source": [
    "# variable definition\n",
    "model.x = pyo.Var(model.ins_items, domain=pyo.Binary)"
   ]
  },
  {
   "cell_type": "code",
   "execution_count": 13,
   "metadata": {},
   "outputs": [],
   "source": [
    "# parameter defnition\n",
    "model.w = pyo.Param(model.ins_scenarios, model.ins_items,\n",
    "                    initialize=init_weight_param, within=pyo.PositiveReals)\n",
    "model.v = pyo.Param(model.ins_items, initialize=init_value_param, within=pyo.PositiveReals)"
   ]
  },
  {
   "cell_type": "code",
   "execution_count": 14,
   "metadata": {},
   "outputs": [],
   "source": [
    "# objective function definition\n",
    "model.obj = pyo.Objective(expr = sum((1/number_of_scenarios) * sum(model.v[i] * model.x[i] for i in model.ins_items)\n",
    "                          for _ in model.ins_scenarios), sense=pyo.maximize)"
   ]
  },
  {
   "cell_type": "code",
   "execution_count": 15,
   "metadata": {},
   "outputs": [],
   "source": [
    "# constraints definition\n",
    "model.weight_limit_constraints = pyo.Constraint(model.ins_scenarios, rule=weight_limit_rule)"
   ]
  },
  {
   "cell_type": "code",
   "execution_count": 16,
   "metadata": {},
   "outputs": [],
   "source": [
    "# solving the model\n",
    "opt = pyo.SolverFactory('cplex')\n",
    "result = opt.solve(model)"
   ]
  },
  {
   "cell_type": "code",
   "execution_count": 17,
   "metadata": {},
   "outputs": [
    {
     "name": "stdout",
     "output_type": "stream",
     "text": [
      "Model unknown\n",
      "\n",
      "  Variables:\n",
      "    x : Size=3, Index=ins_items\n",
      "        Key : Lower : Value : Upper : Fixed : Stale : Domain\n",
      "          0 :     0 :   1.0 :     1 : False : False : Binary\n",
      "          1 :     0 :   0.0 :     1 : False : False : Binary\n",
      "          2 :     0 :   0.0 :     1 : False : False : Binary\n",
      "\n",
      "  Objectives:\n",
      "    obj : Size=1, Index=None, Active=True\n",
      "        Key  : Active : Value\n",
      "        None :   True : 100.00000000000001\n",
      "\n",
      "  Constraints:\n",
      "    weight_limit_constraints : Size=102\n",
      "        Key : Lower : Body               : Upper\n",
      "          0 :  None : 1.9966591513638525 :   3.0\n",
      "          1 :  None :  2.022146157802597 :   3.0\n",
      "          2 :  None :  2.004851031381606 :   3.0\n",
      "          3 :  None : 1.8567371425419041 :   3.0\n",
      "          4 :  None :  1.930026918288878 :   3.0\n",
      "          5 :  None : 1.8240456406458563 :   3.0\n",
      "          6 :  None :  1.999225670705676 :   3.0\n",
      "          7 :  None :  1.970186051003021 :   3.0\n",
      "          8 :  None :  2.077997941484336 :   3.0\n",
      "          9 :  None : 1.9556530320782082 :   3.0\n",
      "         10 :  None : 1.9099663362485404 :   3.0\n",
      "         11 :  None : 1.9375162936560035 :   3.0\n",
      "         12 :  None :  2.133183050819519 :   3.0\n",
      "         13 :  None : 1.9625945192624275 :   3.0\n",
      "         14 :  None : 1.9469371325705207 :   3.0\n",
      "         15 :  None : 1.9752306865883724 :   3.0\n",
      "         16 :  None : 1.9295044418916663 :   3.0\n",
      "         17 :  None : 1.9621604494949165 :   3.0\n",
      "         18 :  None :  1.996849157601596 :   3.0\n",
      "         19 :  None : 1.9699604989632327 :   3.0\n",
      "         20 :  None :  2.021683343047715 :   3.0\n",
      "         21 :  None : 2.0415278163964445 :   3.0\n",
      "         22 :  None : 1.9182021505606457 :   3.0\n",
      "         23 :  None : 1.9024458787989853 :   3.0\n",
      "         24 :  None :  2.021495829631232 :   3.0\n",
      "         25 :  None :  1.867707731592256 :   3.0\n",
      "         26 :  None : 1.8935951604104624 :   3.0\n",
      "         27 :  None :  2.073764829019151 :   3.0\n",
      "         28 :  None : 2.0200664135016493 :   3.0\n",
      "         29 :  None : 1.8658763830863243 :   3.0\n",
      "         30 :  None :  1.868000414863665 :   3.0\n",
      "         31 :  None : 1.9008386899123406 :   3.0\n",
      "         32 :  None :  1.923032259418325 :   3.0\n",
      "         33 :  None :  2.115321691597812 :   3.0\n",
      "         34 :  None : 2.1216999054269183 :   3.0\n",
      "         35 :  None :  2.116384228670202 :   3.0\n",
      "         36 :  None : 2.0429359506925544 :   3.0\n",
      "         37 :  None : 1.9058407814869531 :   3.0\n",
      "         38 :  None : 2.1805814579257756 :   3.0\n",
      "         39 :  None :  1.960855269036209 :   3.0\n",
      "         40 :  None : 2.0911865333318946 :   3.0\n",
      "         41 :  None : 1.7614949671832902 :   3.0\n",
      "         42 :  None : 2.0978423698203206 :   3.0\n",
      "         43 :  None :  1.787863701958264 :   3.0\n",
      "         44 :  None :  2.107927515806441 :   3.0\n",
      "         45 :  None :  1.931062534990694 :   3.0\n",
      "         46 :  None :  2.077369527000478 :   3.0\n",
      "         47 :  None : 1.8910438983299318 :   3.0\n",
      "         48 :  None :  2.079530200901246 :   3.0\n",
      "         49 :  None : 2.0485841772993205 :   3.0\n",
      "         50 :  None : 1.8677941696705633 :   3.0\n",
      "         51 :  None :   1.78397681219336 :   3.0\n",
      "         52 :  None :  2.021806582870128 :   3.0\n",
      "         53 :  None :  1.920103052237681 :   3.0\n",
      "         54 :  None :  2.115728237610382 :   3.0\n",
      "         55 :  None : 2.0983833953950026 :   3.0\n",
      "         56 :  None :  2.134876284990093 :   3.0\n",
      "         57 :  None : 1.9178461254255506 :   3.0\n",
      "         58 :  None : 2.0173338027185763 :   3.0\n",
      "         59 :  None : 1.8604587137732618 :   3.0\n",
      "         60 :  None : 2.0092707427097625 :   3.0\n",
      "         61 :  None :  2.074054067787679 :   3.0\n",
      "         62 :  None :  2.064929933278364 :   3.0\n",
      "         63 :  None :  2.159240183741543 :   3.0\n",
      "         64 :  None : 1.9753555718081994 :   3.0\n",
      "         65 :  None :  2.114902805368366 :   3.0\n",
      "         66 :  None :  1.996050712495758 :   3.0\n",
      "         67 :  None : 2.0204112829547953 :   3.0\n",
      "         68 :  None : 1.9717564457126573 :   3.0\n",
      "         69 :  None : 1.9131406095242514 :   3.0\n",
      "         70 :  None : 1.9690209446012614 :   3.0\n",
      "         71 :  None : 1.9695088007600061 :   3.0\n",
      "         72 :  None : 1.9886691683631235 :   3.0\n",
      "         73 :  None :  1.951849226186746 :   3.0\n",
      "         74 :  None : 2.0688700680045176 :   3.0\n",
      "         75 :  None : 2.0082741034863476 :   3.0\n",
      "         76 :  None :  2.139585640036946 :   3.0\n",
      "         77 :  None : 1.9474804174639877 :   3.0\n",
      "         78 :  None :  2.056599154465452 :   3.0\n",
      "         79 :  None : 1.7855084578752283 :   3.0\n",
      "         80 :  None : 1.9939704633312185 :   3.0\n",
      "         81 :  None : 1.9458372596789453 :   3.0\n",
      "         82 :  None : 1.9286172229951535 :   3.0\n",
      "         83 :  None : 1.9434460760658767 :   3.0\n",
      "         84 :  None : 1.9799427378515642 :   3.0\n",
      "         85 :  None : 1.8883358677390492 :   3.0\n",
      "         86 :  None :  2.207038981247674 :   3.0\n",
      "         87 :  None : 2.1198387244511245 :   3.0\n",
      "         88 :  None :  2.069403107657483 :   3.0\n",
      "         89 :  None :  1.976314447252975 :   3.0\n",
      "         90 :  None :  2.191134797875719 :   3.0\n",
      "         91 :  None : 2.1448265733253553 :   3.0\n",
      "         92 :  None : 1.8349442770738758 :   3.0\n",
      "         93 :  None : 2.1022773795369263 :   3.0\n",
      "         94 :  None : 1.9124045110313634 :   3.0\n",
      "         95 :  None : 2.0135464222976447 :   3.0\n",
      "         96 :  None : 1.9844151793609166 :   3.0\n",
      "         97 :  None :  1.986762124180566 :   3.0\n",
      "         98 :  None :  2.022562989893177 :   3.0\n",
      "         99 :  None : 1.9270480924266782 :   3.0\n",
      "        100 :  None : 2.1502725703780605 :   3.0\n",
      "        101 :  None :  2.047998342174803 :   3.0\n",
      "None\n"
     ]
    }
   ],
   "source": [
    "print(model.display())"
   ]
  },
  {
   "cell_type": "code",
   "execution_count": 18,
   "metadata": {},
   "outputs": [
    {
     "name": "stdout",
     "output_type": "stream",
     "text": [
      "\n",
      "Problem: \n",
      "- Name: tmpzi0byeno\n",
      "  Lower bound: 100.00000000000001\n",
      "  Upper bound: 100.00000000000001\n",
      "  Number of objectives: 1\n",
      "  Number of constraints: 103\n",
      "  Number of variables: 4\n",
      "  Number of nonzeros: 307\n",
      "  Sense: maximize\n",
      "Solver: \n",
      "- Status: ok\n",
      "  User time: 0.02\n",
      "  Termination condition: optimal\n",
      "  Termination message: MIP - Integer optimal solution\\x3a Objective = 1.0000000000e+02\n",
      "  Statistics: \n",
      "    Branch and bound: \n",
      "      Number of bounded subproblems: 0\n",
      "      Number of created subproblems: 0\n",
      "  Error rc: 0\n",
      "  Time: 0.036974191665649414\n",
      "Solution: \n",
      "- number of solutions: 0\n",
      "  number of solutions displayed: 0\n",
      "\n"
     ]
    }
   ],
   "source": [
    "print(result)"
   ]
  }
 ],
 "metadata": {
  "kernelspec": {
   "display_name": "Python 3",
   "language": "python",
   "name": "python3"
  },
  "language_info": {
   "codemirror_mode": {
    "name": "ipython",
    "version": 3
   },
   "file_extension": ".py",
   "mimetype": "text/x-python",
   "name": "python",
   "nbconvert_exporter": "python",
   "pygments_lexer": "ipython3",
   "version": "3.8.3"
  }
 },
 "nbformat": 4,
 "nbformat_minor": 4
}
