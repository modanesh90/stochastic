{
 "cells": [
  {
   "cell_type": "code",
   "execution_count": 1,
   "metadata": {},
   "outputs": [],
   "source": [
    "import pandas as pd\n",
    "import numpy as np\n",
    "import pyomo.environ as pyo\n",
    "from numpy.random import normal"
   ]
  },
  {
   "cell_type": "code",
   "execution_count": 2,
   "metadata": {},
   "outputs": [
    {
     "name": "stdout",
     "output_type": "stream",
     "text": [
      "     name  value  weight_mean  weight_std\n",
      "0    gold    100          2.0         0.1\n",
      "1  silver     90          1.4         0.4\n",
      "2  bronze     70          1.1         0.3\n"
     ]
    }
   ],
   "source": [
    "#  weight parameters are uncertain with normal distribution and known mean, standard deviation\n",
    "df = pd.read_csv('knapsack_dataset.csv')  \n",
    "print(df)"
   ]
  },
  {
   "cell_type": "code",
   "execution_count": 3,
   "metadata": {},
   "outputs": [],
   "source": [
    "knapsack_capacity = 3"
   ]
  },
  {
   "cell_type": "code",
   "execution_count": 4,
   "metadata": {},
   "outputs": [
    {
     "data": {
      "text/latex": [
       "Binary Knapsack problem with uncertainty in the weight of items. In this problem we assume that the weight of items are known\n",
       "only after we made our decisions.\n",
       "$$\\max \\sum\\limits_{s\\in S}p_s\\sum\\limits_{i = 1}^n c_i x_i$$\n",
       "$$\\sum\\limits_{i = 1}^n  w^s_i x_i \\leq b,\\; \\forall s \\in S$$\n",
       "$$x_i\\in \\{0, 1\\}\\;\\forall i=1,\\;...,n$$\n"
      ],
      "text/plain": [
       "<IPython.core.display.Latex object>"
      ]
     },
     "metadata": {},
     "output_type": "display_data"
    }
   ],
   "source": [
    "%%latex \n",
    "Binary Knapsack problem with uncertainty in the weight of items. In this problem we assume that the weight of items are known\n",
    "only after we made our decisions.\n",
    "$$\\max \\sum\\limits_{s\\in S}p_s\\sum\\limits_{i = 1}^n c_i x_i$$\n",
    "$$\\sum\\limits_{i = 1}^n  w^s_i x_i \\leq b,\\; \\forall s \\in S$$\n",
    "$$x_i\\in \\{0, 1\\}\\;\\forall i=1,\\;...,n$$"
   ]
  },
  {
   "cell_type": "code",
   "execution_count": 5,
   "metadata": {},
   "outputs": [],
   "source": [
    "# generating scenarios:\n",
    "number_of_scenarios = 102\n",
    "scenarios = normal(df['weight_mean'], df['weight_std'], [number_of_scenarios, len(df)])"
   ]
  },
  {
   "cell_type": "code",
   "execution_count": 6,
   "metadata": {},
   "outputs": [
    {
     "name": "stdout",
     "output_type": "stream",
     "text": [
      "[1.9901055846648983, 1.4412235877320891, 1.1191050466388581]\n"
     ]
    }
   ],
   "source": [
    "# print average of each parameter value over all scenarios\n",
    "print([np.average(scenarios[:,0]),np.average(scenarios[:,1]),np.average(scenarios[:,2])])"
   ]
  },
  {
   "cell_type": "code",
   "execution_count": 7,
   "metadata": {},
   "outputs": [],
   "source": [
    "def init_weight_param(model, i, j):\n",
    "    return scenarios[i, j]"
   ]
  },
  {
   "cell_type": "code",
   "execution_count": 8,
   "metadata": {},
   "outputs": [],
   "source": [
    "def init_value_param(model, i):\n",
    "    return df.loc[i, 'value']"
   ]
  },
  {
   "cell_type": "code",
   "execution_count": 9,
   "metadata": {},
   "outputs": [],
   "source": [
    "def weight_limit_rule(m, j):\n",
    "    return sum(m.w[j, i] * m.x[i] for i in range(len(df))) <= knapsack_capacity"
   ]
  },
  {
   "cell_type": "code",
   "execution_count": 10,
   "metadata": {},
   "outputs": [],
   "source": [
    "model = pyo.ConcreteModel()"
   ]
  },
  {
   "cell_type": "code",
   "execution_count": 11,
   "metadata": {},
   "outputs": [],
   "source": [
    "# instance definition\n",
    "model.ins_items = pyo.RangeSet(0, len(df)-1)\n",
    "model.ins_scenarios = pyo.RangeSet(0, number_of_scenarios-1)"
   ]
  },
  {
   "cell_type": "code",
   "execution_count": 12,
   "metadata": {},
   "outputs": [],
   "source": [
    "# variable definition\n",
    "model.x = pyo.Var(model.ins_items, domain=pyo.Binary)"
   ]
  },
  {
   "cell_type": "code",
   "execution_count": 13,
   "metadata": {},
   "outputs": [],
   "source": [
    "# parameter defnition\n",
    "model.w = pyo.Param(model.ins_scenarios, model.ins_items,\n",
    "                    initialize=init_weight_param, within=pyo.PositiveReals)\n",
    "model.v = pyo.Param(model.ins_items, initialize=init_value_param, within=pyo.PositiveReals)"
   ]
  },
  {
   "cell_type": "code",
   "execution_count": 14,
   "metadata": {},
   "outputs": [],
   "source": [
    "# objective function definition\n",
    "model.obj = pyo.Objective(expr = sum((1/number_of_scenarios) * sum(model.v[i] * model.x[i] for i in model.ins_items)\n",
    "                          for _ in model.ins_scenarios), sense=pyo.maximize)"
   ]
  },
  {
   "cell_type": "code",
   "execution_count": 15,
   "metadata": {},
   "outputs": [],
   "source": [
    "# constraints definition\n",
    "model.weight_limit_constraints = pyo.Constraint(model.ins_scenarios, rule=weight_limit_rule)"
   ]
  },
  {
   "cell_type": "code",
   "execution_count": 16,
   "metadata": {},
   "outputs": [],
   "source": [
    "# solving the model\n",
    "opt = pyo.SolverFactory('cplex')\n",
    "result = opt.solve(model)"
   ]
  },
  {
   "cell_type": "code",
   "execution_count": 17,
   "metadata": {},
   "outputs": [
    {
     "name": "stdout",
     "output_type": "stream",
     "text": [
      "Model unknown\n",
      "\n",
      "  Variables:\n",
      "    x : Size=3, Index=ins_items\n",
      "        Key : Lower : Value : Upper : Fixed : Stale : Domain\n",
      "          0 :     0 :   1.0 :     1 : False : False : Binary\n",
      "          1 :     0 :   0.0 :     1 : False : False : Binary\n",
      "          2 :     0 :   0.0 :     1 : False : False : Binary\n",
      "\n",
      "  Objectives:\n",
      "    obj : Size=1, Index=None, Active=True\n",
      "        Key  : Active : Value\n",
      "        None :   True : 100.00000000000001\n",
      "\n",
      "  Constraints:\n",
      "    weight_limit_constraints : Size=102\n",
      "        Key : Lower : Body               : Upper\n",
      "          0 :  None : 1.9486633898231687 :   3.0\n",
      "          1 :  None : 1.8909703514087597 :   3.0\n",
      "          2 :  None : 2.0328119868212964 :   3.0\n",
      "          3 :  None : 1.9524307244275687 :   3.0\n",
      "          4 :  None :   2.09298386069052 :   3.0\n",
      "          5 :  None :  1.731073504289019 :   3.0\n",
      "          6 :  None : 1.9207484106429784 :   3.0\n",
      "          7 :  None : 2.0507066088282877 :   3.0\n",
      "          8 :  None : 2.0472316566517748 :   3.0\n",
      "          9 :  None :  2.104925330866673 :   3.0\n",
      "         10 :  None : 2.1118562858240146 :   3.0\n",
      "         11 :  None :  2.227945847767194 :   3.0\n",
      "         12 :  None :  1.709895984237613 :   3.0\n",
      "         13 :  None :  2.019496907550998 :   3.0\n",
      "         14 :  None : 1.9971703215968974 :   3.0\n",
      "         15 :  None :  1.869304748856078 :   3.0\n",
      "         16 :  None :  1.784387566613749 :   3.0\n",
      "         17 :  None : 1.9600172315313258 :   3.0\n",
      "         18 :  None : 1.8932973812291238 :   3.0\n",
      "         19 :  None :  1.977739710368972 :   3.0\n",
      "         20 :  None :  1.905734105098112 :   3.0\n",
      "         21 :  None :  1.953885985571709 :   3.0\n",
      "         22 :  None :  2.016251704196956 :   3.0\n",
      "         23 :  None : 2.1887274339260667 :   3.0\n",
      "         24 :  None :  2.082597937185405 :   3.0\n",
      "         25 :  None : 1.9250015203626405 :   3.0\n",
      "         26 :  None : 2.0642189385540513 :   3.0\n",
      "         27 :  None :  1.923853841755567 :   3.0\n",
      "         28 :  None : 1.9956855322385407 :   3.0\n",
      "         29 :  None : 2.0371253500109496 :   3.0\n",
      "         30 :  None :  2.117959676958087 :   3.0\n",
      "         31 :  None : 1.7817377625688584 :   3.0\n",
      "         32 :  None : 1.8709818343191778 :   3.0\n",
      "         33 :  None : 1.8039180419702174 :   3.0\n",
      "         34 :  None :  2.063696782228192 :   3.0\n",
      "         35 :  None : 1.9732636292172798 :   3.0\n",
      "         36 :  None :  2.093292301000821 :   3.0\n",
      "         37 :  None :  2.000906631623263 :   3.0\n",
      "         38 :  None : 2.0964058345037184 :   3.0\n",
      "         39 :  None : 2.2228402488958796 :   3.0\n",
      "         40 :  None :  2.005270027748307 :   3.0\n",
      "         41 :  None : 1.9812817044641071 :   3.0\n",
      "         42 :  None :  1.810993152541557 :   3.0\n",
      "         43 :  None :  2.170081348068398 :   3.0\n",
      "         44 :  None : 2.0064596127021366 :   3.0\n",
      "         45 :  None : 1.8610623721538764 :   3.0\n",
      "         46 :  None : 2.0355571275323308 :   3.0\n",
      "         47 :  None : 1.9748785273967668 :   3.0\n",
      "         48 :  None : 2.0332240957999237 :   3.0\n",
      "         49 :  None : 2.0581448899360715 :   3.0\n",
      "         50 :  None :  2.022125632821129 :   3.0\n",
      "         51 :  None :  2.003290807766982 :   3.0\n",
      "         52 :  None :  2.002651148112747 :   3.0\n",
      "         53 :  None :  2.021141400006834 :   3.0\n",
      "         54 :  None : 2.0593642480305805 :   3.0\n",
      "         55 :  None : 2.0213741112249837 :   3.0\n",
      "         56 :  None :  2.016064719889421 :   3.0\n",
      "         57 :  None : 2.0316497931844544 :   3.0\n",
      "         58 :  None : 1.9022291265400861 :   3.0\n",
      "         59 :  None : 1.9911131810378804 :   3.0\n",
      "         60 :  None : 2.1479194660107694 :   3.0\n",
      "         61 :  None : 2.0582390720977695 :   3.0\n",
      "         62 :  None :  1.891296193758926 :   3.0\n",
      "         63 :  None : 2.0287107129444544 :   3.0\n",
      "         64 :  None : 1.9292298655164402 :   3.0\n",
      "         65 :  None : 1.9809055308093748 :   3.0\n",
      "         66 :  None :  2.113400153886025 :   3.0\n",
      "         67 :  None :  2.055870992848779 :   3.0\n",
      "         68 :  None : 1.7879639376683258 :   3.0\n",
      "         69 :  None : 1.9432906211941394 :   3.0\n",
      "         70 :  None :  1.788331792731056 :   3.0\n",
      "         71 :  None :  2.080630904235079 :   3.0\n",
      "         72 :  None :  2.052270564281792 :   3.0\n",
      "         73 :  None :  2.007041252069044 :   3.0\n",
      "         74 :  None : 1.9345890296201425 :   3.0\n",
      "         75 :  None : 2.0898002657777592 :   3.0\n",
      "         76 :  None : 1.8493188538010379 :   3.0\n",
      "         77 :  None : 2.0228836654629285 :   3.0\n",
      "         78 :  None : 2.1458006036036785 :   3.0\n",
      "         79 :  None :   1.98305864984462 :   3.0\n",
      "         80 :  None :  2.080997210879464 :   3.0\n",
      "         81 :  None : 1.9310821814815884 :   3.0\n",
      "         82 :  None :  1.881407773806626 :   3.0\n",
      "         83 :  None :  1.981258080805587 :   3.0\n",
      "         84 :  None : 1.9639329840730242 :   3.0\n",
      "         85 :  None : 1.8804010221083787 :   3.0\n",
      "         86 :  None :   2.01799665914457 :   3.0\n",
      "         87 :  None : 1.9789408674762676 :   3.0\n",
      "         88 :  None :  1.939733816474353 :   3.0\n",
      "         89 :  None :  1.866930914379092 :   3.0\n",
      "         90 :  None :  2.140969065536832 :   3.0\n",
      "         91 :  None : 2.0075651199418014 :   3.0\n",
      "         92 :  None : 1.9753624867396955 :   3.0\n",
      "         93 :  None :  2.030926366488729 :   3.0\n",
      "         94 :  None : 2.0629540486966462 :   3.0\n",
      "         95 :  None : 1.9836480494726247 :   3.0\n",
      "         96 :  None :   2.04497836697283 :   3.0\n",
      "         97 :  None :  2.044179068496657 :   3.0\n",
      "         98 :  None : 1.8320412156588934 :   3.0\n",
      "         99 :  None :  1.938942614803977 :   3.0\n",
      "        100 :  None : 1.9642196897872912 :   3.0\n",
      "        101 :  None : 2.1020499752624775 :   3.0\n",
      "None\n"
     ]
    }
   ],
   "source": [
    "print(model.display())"
   ]
  },
  {
   "cell_type": "code",
   "execution_count": 18,
   "metadata": {},
   "outputs": [
    {
     "name": "stdout",
     "output_type": "stream",
     "text": [
      "\n",
      "Problem: \n",
      "- Name: tmpf30_oo05\n",
      "  Lower bound: 100.00000000000001\n",
      "  Upper bound: 100.00000000000001\n",
      "  Number of objectives: 1\n",
      "  Number of constraints: 103\n",
      "  Number of variables: 4\n",
      "  Number of nonzeros: 307\n",
      "  Sense: maximize\n",
      "Solver: \n",
      "- Status: ok\n",
      "  User time: 0.02\n",
      "  Termination condition: optimal\n",
      "  Termination message: MIP - Integer optimal solution\\x3a Objective = 1.0000000000e+02\n",
      "  Statistics: \n",
      "    Branch and bound: \n",
      "      Number of bounded subproblems: 0\n",
      "      Number of created subproblems: 0\n",
      "  Error rc: 0\n",
      "  Time: 0.04297065734863281\n",
      "Solution: \n",
      "- number of solutions: 0\n",
      "  number of solutions displayed: 0\n",
      "\n"
     ]
    }
   ],
   "source": [
    "print(result)"
   ]
  }
 ],
 "metadata": {
  "kernelspec": {
   "display_name": "Python 3",
   "language": "python",
   "name": "python3"
  },
  "language_info": {
   "codemirror_mode": {
    "name": "ipython",
    "version": 3
   },
   "file_extension": ".py",
   "mimetype": "text/x-python",
   "name": "python",
   "nbconvert_exporter": "python",
   "pygments_lexer": "ipython3",
   "version": "3.8.3"
  }
 },
 "nbformat": 4,
 "nbformat_minor": 4
}
