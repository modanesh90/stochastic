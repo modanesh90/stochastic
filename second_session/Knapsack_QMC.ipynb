{
 "cells": [
  {
   "cell_type": "code",
   "execution_count": 1,
   "metadata": {},
   "outputs": [],
   "source": [
    "import pandas as pd\n",
    "import numpy as np\n",
    "import pyomo.environ as pyo\n",
    "from numpy.random import normal\n",
    "import qmcpy as qp"
   ]
  },
  {
   "cell_type": "code",
   "execution_count": 2,
   "metadata": {
    "scrolled": true
   },
   "outputs": [
    {
     "name": "stdout",
     "output_type": "stream",
     "text": [
      "     name  value  weight_mean  weight_std\n",
      "0    gold    100          4.0         0.1\n",
      "1  silver     90          2.8         0.4\n",
      "2  bronze     70          2.2         0.3\n"
     ]
    }
   ],
   "source": [
    "#  weight parameters are uncertain with normal distribution and known mean, standard deviation\n",
    "df = pd.read_csv('knapsack_dataset_uncertain_weight.csv')  \n",
    "print(df)"
   ]
  },
  {
   "cell_type": "code",
   "execution_count": 3,
   "metadata": {},
   "outputs": [],
   "source": [
    "knapsack_capacity = 6"
   ]
  },
  {
   "cell_type": "code",
   "execution_count": 4,
   "metadata": {},
   "outputs": [],
   "source": [
    "number_of_scenarios = 128  # must be a power of 2\n",
    "g = qp.Gaussian(qp.Sobol(len(df),seed=7),mean=df['weight_mean'],covariance=df['weight_std'])\n",
    "scenarios = g.gen_samples(number_of_scenarios)"
   ]
  },
  {
   "cell_type": "code",
   "execution_count": 5,
   "metadata": {},
   "outputs": [],
   "source": [
    "def init_weight_param(model, i, j):\n",
    "    return scenarios[i, j]"
   ]
  },
  {
   "cell_type": "code",
   "execution_count": 6,
   "metadata": {},
   "outputs": [],
   "source": [
    "def init_value_param(model, i):\n",
    "    return df.loc[i, 'value']"
   ]
  },
  {
   "cell_type": "code",
   "execution_count": 7,
   "metadata": {},
   "outputs": [],
   "source": [
    "def weight_limit_rule(m, j):\n",
    "    return sum(m.w[j, i] * m.x[i] for i in range(len(df))) <= knapsack_capacity"
   ]
  },
  {
   "cell_type": "code",
   "execution_count": 8,
   "metadata": {},
   "outputs": [],
   "source": [
    "model = pyo.ConcreteModel()"
   ]
  },
  {
   "cell_type": "code",
   "execution_count": 9,
   "metadata": {},
   "outputs": [],
   "source": [
    "# indices definition\n",
    "model.ind_items = pyo.RangeSet(0, len(df)-1)\n",
    "model.ind_scenarios = pyo.RangeSet(0, number_of_scenarios-1)"
   ]
  },
  {
   "cell_type": "code",
   "execution_count": 10,
   "metadata": {},
   "outputs": [],
   "source": [
    "# variable definition\n",
    "model.x = pyo.Var(model.ind_items, domain=pyo.Binary)"
   ]
  },
  {
   "cell_type": "code",
   "execution_count": 11,
   "metadata": {},
   "outputs": [],
   "source": [
    "# parameter defnition\n",
    "model.w = pyo.Param(model.ind_scenarios, model.ind_items,\n",
    "                    initialize=init_weight_param, within=pyo.PositiveReals)\n",
    "model.v = pyo.Param(model.ind_items, initialize=init_value_param, within=pyo.PositiveReals)"
   ]
  },
  {
   "cell_type": "code",
   "execution_count": 12,
   "metadata": {},
   "outputs": [],
   "source": [
    "# objective function definition\n",
    "model.obj = pyo.Objective(expr = sum((1/number_of_scenarios) * sum(model.v[i] * model.x[i] for i in model.ind_items)\n",
    "                          for _ in model.ind_scenarios), sense=pyo.maximize)"
   ]
  },
  {
   "cell_type": "code",
   "execution_count": 13,
   "metadata": {},
   "outputs": [],
   "source": [
    "# constraints definition\n",
    "model.weight_limit_constraints = pyo.Constraint(model.ind_scenarios, rule=weight_limit_rule)"
   ]
  },
  {
   "cell_type": "code",
   "execution_count": 14,
   "metadata": {},
   "outputs": [],
   "source": [
    "# solving the model\n",
    "opt = pyo.SolverFactory('gurobi')\n",
    "result = opt.solve(model)"
   ]
  },
  {
   "cell_type": "code",
   "execution_count": 15,
   "metadata": {},
   "outputs": [
    {
     "name": "stdout",
     "output_type": "stream",
     "text": [
      "Model unknown\n",
      "\n",
      "  Variables:\n",
      "    x : Size=3, Index=ind_items\n",
      "        Key : Lower : Value : Upper : Fixed : Stale : Domain\n",
      "          0 :     0 :   1.0 :     1 : False : False : Binary\n",
      "          1 :     0 :   0.0 :     1 : False : False : Binary\n",
      "          2 :     0 :   0.0 :     1 : False : False : Binary\n",
      "\n",
      "  Objectives:\n",
      "    obj : Size=1, Index=None, Active=True\n",
      "        Key  : Active : Value\n",
      "        None :   True : 100.0\n",
      "\n",
      "  Constraints:\n",
      "    weight_limit_constraints : Size=128\n",
      "        Key : Lower : Body               : Upper\n",
      "          0 :  None :  4.140143105285576 :   6.0\n",
      "          1 :  None : 3.8695010924640423 :   6.0\n",
      "          2 :  None :  3.606721392078507 :   6.0\n",
      "          3 :  None :  4.413564993385888 :   6.0\n",
      "          4 :  None : 4.3052096289792114 :   6.0\n",
      "          5 :  None : 3.6902823225812407 :   6.0\n",
      "          6 :  None :  3.917732863783074 :   6.0\n",
      "          7 :  None :  4.079559242534682 :   6.0\n",
      "          8 :  None : 3.8001190018788105 :   6.0\n",
      "          9 :  None :  4.211972961039165 :   6.0\n",
      "         10 :  None :  4.529476596394963 :   6.0\n",
      "         11 :  None : 3.5059884282665266 :   6.0\n",
      "         12 :  None :   3.77734971102918 :   6.0\n",
      "         13 :  None :  4.218340132330687 :   6.0\n",
      "         14 :  None :  4.040649520156267 :   6.0\n",
      "         15 :  None : 3.9557434241064806 :   6.0\n",
      "         16 :  None : 3.6391876517534985 :   6.0\n",
      "         17 :  None :   4.34443226851333 :   6.0\n",
      "         18 :  None :  4.052742869030046 :   6.0\n",
      "         19 :  None : 3.9381126769586814 :   6.0\n",
      "         20 :  None :  3.894705333142241 :   6.0\n",
      "         21 :  None :  4.108272357473511 :   6.0\n",
      "         22 :  None : 4.4667709905411925 :   6.0\n",
      "         23 :  None :  3.540873668709172 :   6.0\n",
      "         24 :  None :    4.2489930646123 :   6.0\n",
      "         25 :  None : 3.7374451241793474 :   6.0\n",
      "         26 :  None :  3.976287631743032 :   6.0\n",
      "         27 :  None :  4.014108513782779 :   6.0\n",
      "         28 :  None :  4.176561236579408 :   6.0\n",
      "         29 :  None :  3.827378342226251 :   6.0\n",
      "         30 :  None : 3.3870449926460973 :   6.0\n",
      "         31 :  None :  4.638212945635114 :   6.0\n",
      "         32 :  None : 4.8274963474041765 :   6.0\n",
      "         33 :  None :  3.237820698871286 :   6.0\n",
      "         34 :  None :  3.839621365905079 :   6.0\n",
      "         35 :  None :  4.163349312291537 :   6.0\n",
      "         36 :  None :  4.000768020443634 :   6.0\n",
      "         37 :  None : 3.9904216624138296 :   6.0\n",
      "         38 :  None :  3.722690056151915 :   6.0\n",
      "         39 :  None :   4.26431263280318 :   6.0\n",
      "         40 :  None :  3.571416190863725 :   6.0\n",
      "         41 :  None :  4.437248793883775 :   6.0\n",
      "         42 :  None : 4.1237812578013004 :   6.0\n",
      "         43 :  None : 3.8800790821837117 :   6.0\n",
      "         44 :  None : 3.9268135522396586 :   6.0\n",
      "         45 :  None :  4.063190474380734 :   6.0\n",
      "         46 :  None : 4.3198872777821595 :   6.0\n",
      "         47 :  None : 3.6637128951717557 :   6.0\n",
      "         48 :  None :  3.967256857991855 :   6.0\n",
      "         49 :  None :  4.029931403659445 :   6.0\n",
      "         50 :  None :  4.237171700021369 :   6.0\n",
      "         51 :  None :  3.759358202929755 :   6.0\n",
      "         52 :  None :   3.46462032011637 :   6.0\n",
      "         53 :  None :  4.576662945076572 :   6.0\n",
      "         54 :  None : 4.1946105019394135 :   6.0\n",
      "         55 :  None : 3.8161589806910956 :   6.0\n",
      "         56 :  None : 4.0938180659848085 :   6.0\n",
      "         57 :  None :  3.902631200905605 :   6.0\n",
      "         58 :  None :  3.707017755012343 :   6.0\n",
      "         59 :  None :  4.287516655660126 :   6.0\n",
      "         60 :  None : 4.3839706890850065 :   6.0\n",
      "         61 :  None : 3.6356987392133497 :   6.0\n",
      "         62 :  None : 3.8582359307043737 :   6.0\n",
      "         63 :  None :  4.152428810605632 :   6.0\n",
      "         64 :  None : 3.8793022461143813 :   6.0\n",
      "         65 :  None :   4.11767601008625 :   6.0\n",
      "         66 :  None :  4.427899972718938 :   6.0\n",
      "         67 :  None :  3.565471259713681 :   6.0\n",
      "         68 :  None :  3.675747687136327 :   6.0\n",
      "         69 :  None :  4.339513563193132 :   6.0\n",
      "         70 :  None :   4.07374354916211 :   6.0\n",
      "         71 :  None : 3.9354675820374663 :   6.0\n",
      "         72 :  None :  4.159378461027353 :   6.0\n",
      "         73 :  None :   3.83677019103672 :   6.0\n",
      "         74 :  None :  3.225616343730665 :   6.0\n",
      "         75 :  None :  4.717105754877252 :   6.0\n",
      "         76 :  None :  4.279350637658854 :   6.0\n",
      "         77 :  None : 3.7348131231033297 :   6.0\n",
      "         78 :  None :  3.997580710145515 :   6.0\n",
      "         79 :  None :  4.012009617647523 :   6.0\n",
      "         80 :  None :  4.291586621045371 :   6.0\n",
      "         81 :  None : 3.7126871855025954 :   6.0\n",
      "         82 :  None : 3.9084204299853273 :   6.0\n",
      "         83 :  None :  4.094314754927274 :   6.0\n",
      "         84 :  None :  4.143277473489244 :   6.0\n",
      "         85 :  None :  3.846899532488207 :   6.0\n",
      "         86 :  None : 3.6124908851383926 :   6.0\n",
      "         87 :  None :   4.36912043189155 :   6.0\n",
      "         88 :  None : 3.7666421179961165 :   6.0\n",
      "         89 :  None : 4.2378164635212645 :   6.0\n",
      "         90 :  None :  4.032486527088568 :   6.0\n",
      "         91 :  None :  3.971106942165328 :   6.0\n",
      "         92 :  None : 3.8022614157786165 :   6.0\n",
      "         93 :  None :  4.185982489960716 :   6.0\n",
      "         94 :  None :  4.537795330011493 :   6.0\n",
      "         95 :  None :  3.416093620021572 :   6.0\n",
      "         96 :  None : 3.4821076931456383 :   6.0\n",
      "         97 :  None :   4.48678687601618 :   6.0\n",
      "         98 :  None : 4.1997468459855805 :   6.0\n",
      "         99 :  None : 3.7891380291372445 :   6.0\n",
      "        100 :  None : 3.9568938720260656 :   6.0\n",
      "        101 :  None :  4.045933103919015 :   6.0\n",
      "        102 :  None :  4.223446767019489 :   6.0\n",
      "        103 :  None :   3.77988764651567 :   6.0\n",
      "        104 :  None :  4.391001038015225 :   6.0\n",
      "        105 :  None : 3.5870929707725834 :   6.0\n",
      "        106 :  None : 3.8621651588979664 :   6.0\n",
      "        107 :  None : 4.1273819458321706 :   6.0\n",
      "        108 :  None :  4.083631922118785 :   6.0\n",
      "        109 :  None :  3.919873906215333 :   6.0\n",
      "        110 :  None : 3.6918667780981345 :   6.0\n",
      "        111 :  None :  4.313954471648227 :   6.0\n",
      "        112 :  None :  4.022684051334463 :   6.0\n",
      "        113 :  None : 3.9861416968713184 :   6.0\n",
      "        114 :  None :  3.753878818402277 :   6.0\n",
      "        115 :  None :  4.258502006641163 :   6.0\n",
      "        116 :  None :  4.621947900255815 :   6.0\n",
      "        117 :  None : 3.3573777634744086 :   6.0\n",
      "        118 :  None : 3.8213351783583285 :   6.0\n",
      "        119 :  None :  4.175618419707859 :   6.0\n",
      "        120 :  None :  3.950205770748487 :   6.0\n",
      "        121 :  None :  4.059706823125311 :   6.0\n",
      "        122 :  None :  4.360566905092549 :   6.0\n",
      "        123 :  None : 3.6572039505714375 :   6.0\n",
      "        124 :  None : 3.5258089716933085 :   6.0\n",
      "        125 :  None :  4.463994086661347 :   6.0\n",
      "        126 :  None :  4.105919437873399 :   6.0\n",
      "        127 :  None : 3.8902807236841865 :   6.0\n"
     ]
    }
   ],
   "source": [
    "model.display()"
   ]
  },
  {
   "cell_type": "code",
   "execution_count": null,
   "metadata": {},
   "outputs": [],
   "source": []
  }
 ],
 "metadata": {
  "kernelspec": {
   "display_name": "Python 3",
   "language": "python",
   "name": "python3"
  },
  "language_info": {
   "codemirror_mode": {
    "name": "ipython",
    "version": 3
   },
   "file_extension": ".py",
   "mimetype": "text/x-python",
   "name": "python",
   "nbconvert_exporter": "python",
   "pygments_lexer": "ipython3",
   "version": "3.8.3"
  }
 },
 "nbformat": 4,
 "nbformat_minor": 4
}
