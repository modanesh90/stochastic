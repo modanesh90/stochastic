{
 "cells": [
  {
   "cell_type": "code",
   "execution_count": 1,
   "metadata": {},
   "outputs": [],
   "source": [
    "import pandas as pd\n",
    "import numpy as np\n",
    "import pyomo.environ as pyo\n",
    "from numpy.random import normal"
   ]
  },
  {
   "cell_type": "code",
   "execution_count": 2,
   "metadata": {},
   "outputs": [],
   "source": [
    "model = pyo.ConcreteModel()"
   ]
  },
  {
   "cell_type": "code",
   "execution_count": 3,
   "metadata": {},
   "outputs": [],
   "source": [
    "# variable definition\n",
    "model.x = pyo.Var(range(1,10), domain=pyo.NonNegativeReals)"
   ]
  },
  {
   "cell_type": "code",
   "execution_count": 4,
   "metadata": {},
   "outputs": [],
   "source": [
    "# objective function definition\n",
    "model.obj = pyo.Objective(expr = 1000 * sum(model.x[i] for i in range(1,4)) + 750 * sum(model.x[i] for i in range(4,7))\n",
    "                          + 250 * sum(model.x[i] for i in range(7,10)), sense=pyo.maximize)"
   ]
  },
  {
   "cell_type": "code",
   "execution_count": 5,
   "metadata": {},
   "outputs": [],
   "source": [
    "# constraints definition\n",
    "model.usable_land_first_constraint = pyo.Constraint(expr = model.x[1] + model.x[4] + model.x[7] <= 400)\n",
    "model.usable_land_second_constraint = pyo.Constraint(expr = model.x[2] + model.x[5] + model.x[8] <= 600)\n",
    "model.usable_land_third_constraint = pyo.Constraint(expr = model.x[3] + model.x[6] + model.x[9] <= 300)\n",
    "\n",
    "model.water_allocation_first_constraint = pyo.Constraint(expr = 3 * model.x[1] + 2 * model.x[4] + model.x[7] <= 600)\n",
    "model.water_allocation_second_constraint = pyo.Constraint(expr = 3 * model.x[2] + 2 * model.x[5] + model.x[8] <= 800)\n",
    "model.water_allocation_third_constraint = pyo.Constraint(expr = 3 * model.x[3] + 2 * model.x[6] + model.x[9] <= 375)\n",
    "\n",
    "model.total_acreage_first_constraint = pyo.Constraint(expr = model.x[1] + model.x[2] + model.x[3] <= 600)\n",
    "model.total_acreage_second_constraint = pyo.Constraint(expr = model.x[4] + model.x[5] + model.x[6] <= 500)\n",
    "model.total_acreage_third_constraint = pyo.Constraint(expr = model.x[7] + model.x[8] + model.x[9] <= 325)\n"
   ]
  },
  {
   "cell_type": "code",
   "execution_count": 6,
   "metadata": {},
   "outputs": [],
   "source": [
    "# solving the model\n",
    "opt = pyo.SolverFactory('gurobi')\n",
    "result = opt.solve(model)"
   ]
  },
  {
   "cell_type": "code",
   "execution_count": 7,
   "metadata": {},
   "outputs": [
    {
     "name": "stdout",
     "output_type": "stream",
     "text": [
      "Model unknown\n",
      "\n",
      "  Variables:\n",
      "    x : Size=9, Index=x_index\n",
      "        Key : Lower : Value              : Upper : Fixed : Stale : Domain\n",
      "          1 :     0 :                0.0 :  None : False : False : NonNegativeReals\n",
      "          2 :     0 : 133.33333333333334 :  None : False : False : NonNegativeReals\n",
      "          3 :     0 :              125.0 :  None : False : False : NonNegativeReals\n",
      "          4 :     0 :              300.0 :  None : False : False : NonNegativeReals\n",
      "          5 :     0 :              200.0 :  None : False : False : NonNegativeReals\n",
      "          6 :     0 :                0.0 :  None : False : False : NonNegativeReals\n",
      "          7 :     0 :                0.0 :  None : False : False : NonNegativeReals\n",
      "          8 :     0 :                0.0 :  None : False : False : NonNegativeReals\n",
      "          9 :     0 :                0.0 :  None : False : False : NonNegativeReals\n",
      "\n",
      "  Objectives:\n",
      "    obj : Size=1, Index=None, Active=True\n",
      "        Key  : Active : Value\n",
      "        None :   True : 633333.3333333334\n",
      "\n",
      "  Constraints:\n",
      "    usable_land_first_constraint : Size=1\n",
      "        Key  : Lower : Body  : Upper\n",
      "        None :  None : 300.0 : 400.0\n",
      "    usable_land_second_constraint : Size=1\n",
      "        Key  : Lower : Body               : Upper\n",
      "        None :  None : 333.33333333333337 : 600.0\n",
      "    usable_land_third_constraint : Size=1\n",
      "        Key  : Lower : Body  : Upper\n",
      "        None :  None : 125.0 : 300.0\n",
      "    water_allocation_first_constraint : Size=1\n",
      "        Key  : Lower : Body  : Upper\n",
      "        None :  None : 600.0 : 600.0\n",
      "    water_allocation_second_constraint : Size=1\n",
      "        Key  : Lower : Body  : Upper\n",
      "        None :  None : 800.0 : 800.0\n",
      "    water_allocation_third_constraint : Size=1\n",
      "        Key  : Lower : Body  : Upper\n",
      "        None :  None : 375.0 : 375.0\n",
      "    total_acreage_first_constraint : Size=1\n",
      "        Key  : Lower : Body               : Upper\n",
      "        None :  None : 258.33333333333337 : 600.0\n",
      "    total_acreage_second_constraint : Size=1\n",
      "        Key  : Lower : Body  : Upper\n",
      "        None :  None : 500.0 : 500.0\n",
      "    total_acreage_third_constraint : Size=1\n",
      "        Key  : Lower : Body : Upper\n",
      "        None :  None :  0.0 : 325.0\n"
     ]
    }
   ],
   "source": [
    "model.display()"
   ]
  },
  {
   "cell_type": "code",
   "execution_count": null,
   "metadata": {},
   "outputs": [],
   "source": []
  }
 ],
 "metadata": {
  "kernelspec": {
   "display_name": "Python 3",
   "language": "python",
   "name": "python3"
  },
  "language_info": {
   "codemirror_mode": {
    "name": "ipython",
    "version": 3
   },
   "file_extension": ".py",
   "mimetype": "text/x-python",
   "name": "python",
   "nbconvert_exporter": "python",
   "pygments_lexer": "ipython3",
   "version": "3.8.3"
  }
 },
 "nbformat": 4,
 "nbformat_minor": 4
}
