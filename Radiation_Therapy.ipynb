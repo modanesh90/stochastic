{
 "cells": [
  {
   "cell_type": "code",
   "execution_count": 1,
   "metadata": {},
   "outputs": [],
   "source": [
    "import pandas as pd\n",
    "import numpy as np\n",
    "import pyomo.environ as pyo\n",
    "from numpy.random import normal"
   ]
  },
  {
   "cell_type": "code",
   "execution_count": 2,
   "metadata": {},
   "outputs": [],
   "source": [
    "model = pyo.ConcreteModel()"
   ]
  },
  {
   "cell_type": "code",
   "execution_count": 3,
   "metadata": {},
   "outputs": [],
   "source": [
    "# variable definition\n",
    "model.x = pyo.Var([1, 2], domain=pyo.NonNegativeReals)"
   ]
  },
  {
   "cell_type": "code",
   "execution_count": 4,
   "metadata": {},
   "outputs": [],
   "source": [
    "# objective function definition\n",
    "model.obj = pyo.Objective(expr = 0.4 * model.x[1] + 0.5 * model.x[2], sense=pyo.minimize)"
   ]
  },
  {
   "cell_type": "code",
   "execution_count": 5,
   "metadata": {},
   "outputs": [],
   "source": [
    "# constraints definition\n",
    "model.first_constraint = pyo.Constraint(expr = 0.3 * model.x[1] + 0.1 * model.x[2] <= 2.7)\n",
    "model.second_constraint = pyo.Constraint(expr = 0.5 * model.x[1] + 0.5 * model.x[2] == 6)\n",
    "model.third_constraint = pyo.Constraint(expr = 0.6 * model.x[1] + 0.4 * model.x[2] >= 6)"
   ]
  },
  {
   "cell_type": "code",
   "execution_count": 6,
   "metadata": {},
   "outputs": [],
   "source": [
    "# solving the model\n",
    "opt = pyo.SolverFactory('gurobi')\n",
    "result = opt.solve(model)"
   ]
  },
  {
   "cell_type": "code",
   "execution_count": 7,
   "metadata": {},
   "outputs": [
    {
     "name": "stdout",
     "output_type": "stream",
     "text": [
      "Model unknown\n",
      "\n",
      "  Variables:\n",
      "    x : Size=2, Index=x_index\n",
      "        Key : Lower : Value             : Upper : Fixed : Stale : Domain\n",
      "          1 :     0 : 7.500000000000001 :  None : False : False : NonNegativeReals\n",
      "          2 :     0 : 4.499999999999999 :  None : False : False : NonNegativeReals\n",
      "\n",
      "  Objectives:\n",
      "    obj : Size=1, Index=None, Active=True\n",
      "        Key  : Active : Value\n",
      "        None :   True :  5.25\n",
      "\n",
      "  Constraints:\n",
      "    first_constraint : Size=1\n",
      "        Key  : Lower : Body : Upper\n",
      "        None :  None :  2.7 :   2.7\n",
      "    second_constraint : Size=1\n",
      "        Key  : Lower : Body : Upper\n",
      "        None :   6.0 :  6.0 :   6.0\n",
      "    third_constraint : Size=1\n",
      "        Key  : Lower : Body : Upper\n",
      "        None :   6.0 :  6.3 :  None\n"
     ]
    }
   ],
   "source": [
    "model.display()"
   ]
  },
  {
   "cell_type": "code",
   "execution_count": null,
   "metadata": {},
   "outputs": [],
   "source": []
  }
 ],
 "metadata": {
  "kernelspec": {
   "display_name": "Python 3",
   "language": "python",
   "name": "python3"
  },
  "language_info": {
   "codemirror_mode": {
    "name": "ipython",
    "version": 3
   },
   "file_extension": ".py",
   "mimetype": "text/x-python",
   "name": "python",
   "nbconvert_exporter": "python",
   "pygments_lexer": "ipython3",
   "version": "3.8.3"
  }
 },
 "nbformat": 4,
 "nbformat_minor": 4
}
