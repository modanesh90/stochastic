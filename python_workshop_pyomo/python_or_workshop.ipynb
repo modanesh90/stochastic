{
 "cells": [
  {
   "cell_type": "markdown",
   "metadata": {
    "slideshow": {
     "slide_type": "slide"
    }
   },
   "source": [
    "# Python for Operations Research\n",
    "\n",
    "## Pyomo - Intermediate\n",
    "\n",
    "**Mohammad Daneshvar - Ph.D. Candidate**\n",
    "\n",
    "ESG-UQAM"
   ]
  },
  {
   "cell_type": "markdown",
   "metadata": {
    "slideshow": {
     "slide_type": "slide"
    }
   },
   "source": [
    "# What is Pyomo?\n",
    "- Set of software packages\n",
    "- Formulate optimization problems\n",
    "- Doesn't solve them\n",
    "\n",
    "# What are the other options?\n",
    "- Gurobi Python Interface: [gurobipy](https://pypi.org/project/gurobipy/)\n",
    "- Cplex Python Interface: [cplex](https://pypi.org/project/cplex/) or [docplex](https://pypi.org/project/docplex/)\n",
    "- GNU Linear Programming Kit Python Interface: [glpk](https://pypi.org/project/glpk/)\n",
    "\n"
   ]
  },
  {
   "cell_type": "markdown",
   "metadata": {
    "slideshow": {
     "slide_type": "slide"
    }
   },
   "source": [
    "# Pyomo Overview"
   ]
  },
  {
   "cell_type": "code",
   "execution_count": 1,
   "metadata": {
    "slideshow": {
     "slide_type": "subslide"
    }
   },
   "outputs": [],
   "source": [
    "import pyomo.environ as pyo"
   ]
  },
  {
   "cell_type": "markdown",
   "metadata": {
    "slideshow": {
     "slide_type": "slide"
    }
   },
   "source": [
    "# Study Problem\n",
    "- I need to buy a new set of t-shirts for summer\n",
    "- My budget is 100\\$\n",
    "- These are my options:\n",
    "    - red t-shirt: 57\\$\n",
    "    - blue t-shirt: 44\\$\n",
    "    - green t-shirt: 44\\$\n",
    "    - black t-shirt: 40\\$"
   ]
  },
  {
   "cell_type": "markdown",
   "metadata": {
    "slideshow": {
     "slide_type": "slide"
    }
   },
   "source": [
    "**Selection Criteria**\n",
    "- How much I like each t-shirt! (t-shirt value)\n",
    "    - red t-shirt: 80\n",
    "    - blue t-shirt: 80\n",
    "    - green t-shirt: 85\n",
    "    - black t-shirt: 40"
   ]
  },
  {
   "cell_type": "markdown",
   "metadata": {
    "slideshow": {
     "slide_type": "slide"
    }
   },
   "source": [
    "# A Simple Concrete Pyomo Model"
   ]
  },
  {
   "cell_type": "markdown",
   "metadata": {
    "slideshow": {
     "slide_type": "subslide"
    }
   },
   "source": [
    "$$max\\;\\;\\; 80x_{blue} + 85x_{green} + 80x_{red} + 40x_{black}$$\n",
    "$$s.t.\\;\\; 44x_{blue} + 44x_{green} + 57x_{red} + 40x_{black} \\leq 100 $$\n",
    "$$x_{blue}, x_{green}, x_{red}, x_{black}\\in \\{0, 1\\}$$"
   ]
  },
  {
   "cell_type": "code",
   "execution_count": 2,
   "metadata": {
    "slideshow": {
     "slide_type": "subslide"
    }
   },
   "outputs": [],
   "source": [
    "model = pyo.ConcreteModel()\n",
    "\n",
    "model.x = pyo.Var(['blue','green', 'red', 'black'], domain=pyo.Boolean)\n",
    "\n",
    "model.objective = pyo.Objective(expr = 80*model.x['blue'] + 85*model.x['green']\n",
    "                                + 80*model.x['red'] + 40*model.x['black'],\n",
    "                                sense = pyo.maximize)\n",
    "\n",
    "model.budget_constraint = pyo.Constraint(expr = 44*model.x['blue'] + 44*model.x['green']\n",
    "                                         + 57*model.x['red'] + 40*model.x['black']\n",
    "                                         <= 100)"
   ]
  },
  {
   "cell_type": "markdown",
   "metadata": {
    "slideshow": {
     "slide_type": "slide"
    }
   },
   "source": [
    "# A Simple Abstract Pyomo Model"
   ]
  },
  {
   "cell_type": "markdown",
   "metadata": {
    "slideshow": {
     "slide_type": "subslide"
    }
   },
   "source": [
    "$$\\max \\sum\\limits_{j=1}^nv_jx_j$$\n",
    "$$s.t.\\;\\sum\\limits_{j=1}^nc_{j}x_j\\leq b$$\n",
    "$$x_j\\in  \\{0,1\\}\\;\\;\\;\\forall j = 1...n$$"
   ]
  },
  {
   "cell_type": "code",
   "execution_count": 3,
   "metadata": {
    "slideshow": {
     "slide_type": "subslide"
    }
   },
   "outputs": [],
   "source": [
    "model = pyo.AbstractModel()\n",
    "\n",
    "model.n = pyo.Param(within=pyo.NonNegativeIntegers)  # number of colors\n",
    "\n",
    "model.J = pyo.RangeSet(1, model.n)  # set of all color indices\n",
    "\n",
    "model.c = pyo.Param(model.J)  # cost of each item\n",
    "model.b = pyo.Param()  # budget\n",
    "model.v = pyo.Param(model.J)  # value of each item\n",
    "\n",
    "model.x = pyo.Var(model.J, domain=pyo.NonNegativeReals)\n",
    "\n",
    "def obj_expression(m):\n",
    "    return pyo.summation(m.v, m.x)\n",
    "\n",
    "model.objective = pyo.Objective(rule=obj_expression)\n",
    "\n",
    "def ax_constraint_rule(m):\n",
    "    return sum(m.c[j] * m.x[j] for j in m.J) <= m.b\n",
    "\n",
    "model.budget_constraint = pyo.Constraint(rule=ax_constraint_rule)"
   ]
  },
  {
   "cell_type": "markdown",
   "metadata": {
    "slideshow": {
     "slide_type": "subslide"
    }
   },
   "source": [
    "- It is a mathematical model: represent a set of mathematical problems\n",
    "- Does not depend on the data"
   ]
  },
  {
   "cell_type": "markdown",
   "metadata": {
    "slideshow": {
     "slide_type": "slide"
    }
   },
   "source": [
    "# Concrete or Abstract?\n",
    "- These are original ideas by the Pyomo developers.\n",
    "- Over the years users have shown more interest in the concrete model."
   ]
  },
  {
   "cell_type": "markdown",
   "metadata": {
    "slideshow": {
     "slide_type": "slide"
    }
   },
   "source": [
    "# Pyomo Modeling Components\n",
    "- Sets\n",
    "- Parameters\n",
    "- Variables\n",
    "- Objectives\n",
    "- Constraints\n",
    "- Expressions\n",
    "- Suffixes"
   ]
  },
  {
   "cell_type": "markdown",
   "metadata": {
    "slideshow": {
     "slide_type": "slide"
    }
   },
   "source": [
    "# Sets\n",
    "- Declaration\n",
    "- Operations\n",
    "    - Union: |\n",
    "    - Intersection: &\n",
    "    - Difference: -\n",
    "    - Exclusive or: ^"
   ]
  },
  {
   "cell_type": "code",
   "execution_count": 4,
   "metadata": {
    "slideshow": {
     "slide_type": "slide"
    }
   },
   "outputs": [
    {
     "name": "stdout",
     "output_type": "stream",
     "text": [
      "set_all_colors : Size=1, Index=None, Ordered=True\n",
      "    Key  : Dimen : Domain                                         : Size : Members\n",
      "    None :     1 : set_all_colors_index_0 | set_of_neutral_colors :    4 : {'red', 'green', 'blue', 'black'}\n"
     ]
    }
   ],
   "source": [
    "m = pyo.ConcreteModel()\n",
    "m.set_of_warm_colors = pyo.Set(initialize=['red'])\n",
    "m.set_of_cool_colors = pyo.Set(initialize=['green', 'blue'])\n",
    "m.set_of_neutral_colors = pyo.Set(initialize=['black'])\n",
    "m.set_all_colors =  m.set_of_warm_colors | m.set_of_cool_colors | m.set_of_neutral_colors\n",
    "m.set_all_colors.pprint()"
   ]
  },
  {
   "cell_type": "code",
   "execution_count": 5,
   "metadata": {
    "slideshow": {
     "slide_type": "subslide"
    }
   },
   "outputs": [
    {
     "name": "stdout",
     "output_type": "stream",
     "text": [
      "set_intersection_exmaple : Size=1, Index=None, Ordered=True\n",
      "    Key  : Dimen : Domain                              : Size : Members\n",
      "    None :     1 : set_all_colors & set_of_warm_colors :    1 : {'red',}\n"
     ]
    }
   ],
   "source": [
    "m.set_intersection_exmaple = m.set_all_colors & m.set_of_warm_colors\n",
    "m.set_intersection_exmaple.pprint()"
   ]
  },
  {
   "cell_type": "markdown",
   "metadata": {
    "slideshow": {
     "slide_type": "slide"
    }
   },
   "source": [
    "# Parameters\n",
    "- Declaration"
   ]
  },
  {
   "cell_type": "code",
   "execution_count": 6,
   "metadata": {
    "slideshow": {
     "slide_type": "subslide"
    }
   },
   "outputs": [],
   "source": [
    "def price_initializer(m, color):\n",
    "    if color == \"black\":\n",
    "        return 40\n",
    "    elif any(color in colors for colors in m.set_of_cool_colors):\n",
    "        return 44\n",
    "    elif color == \"red\":\n",
    "        return 57\n",
    "    return -1"
   ]
  },
  {
   "cell_type": "code",
   "execution_count": 7,
   "metadata": {
    "slideshow": {
     "slide_type": "subslide"
    }
   },
   "outputs": [
    {
     "name": "stdout",
     "output_type": "stream",
     "text": [
      "color_price : Size=4, Index=set_all_colors, Domain=NonNegativeReals, Default=None, Mutable=False\n",
      "    Key   : Value\n",
      "    black :    40\n",
      "     blue :    44\n",
      "    green :    44\n",
      "      red :    57\n",
      "color_value : Size=4, Index=set_all_colors, Domain=NonNegativeReals, Default=None, Mutable=False\n",
      "    Key   : Value\n",
      "    black :    40\n",
      "     blue :    80\n",
      "    green :    85\n",
      "      red :    80\n",
      "budget : Size=1, Index=None, Domain=Any, Default=None, Mutable=False\n",
      "    Key  : Value\n",
      "    None :   100\n"
     ]
    }
   ],
   "source": [
    "m.color_price = pyo.Param(m.set_all_colors, initialize=price_initializer,\n",
    "                          within=pyo.NonNegativeReals)\n",
    "m.color_price.pprint()\n",
    "\n",
    "value_dict = {'black': 40, 'blue': 80, 'green': 85, 'red': 80}\n",
    "\n",
    "m.color_value = pyo.Param(m.set_all_colors, initialize=value_dict, within=pyo.NonNegativeReals)\n",
    "m.color_value.pprint()\n",
    "\n",
    "m.budget = pyo.Param(initialize=100)\n",
    "m.budget.pprint()"
   ]
  },
  {
   "cell_type": "markdown",
   "metadata": {
    "slideshow": {
     "slide_type": "slide"
    }
   },
   "source": [
    "# Variables\n",
    "    - Bounds\n",
    "    - Domain\n",
    "    - Initialize"
   ]
  },
  {
   "cell_type": "code",
   "execution_count": 8,
   "metadata": {
    "slideshow": {
     "slide_type": "subslide"
    }
   },
   "outputs": [
    {
     "name": "stdout",
     "output_type": "stream",
     "text": [
      "selected_color : Size=4, Index=set_all_colors\n",
      "    Key   : Lower : Value : Upper : Fixed : Stale : Domain\n",
      "    black :     0 :  None :     1 : False :  True : Boolean\n",
      "     blue :     0 :  None :     1 : False :  True : Boolean\n",
      "    green :     0 :  None :     1 : False :  True : Boolean\n",
      "      red :     0 :  None :     1 : False :  True : Boolean\n"
     ]
    }
   ],
   "source": [
    "m.selected_color = pyo.Var(m.set_all_colors, domain=pyo.Boolean)\n",
    "m.selected_color.pprint()"
   ]
  },
  {
   "cell_type": "markdown",
   "metadata": {
    "slideshow": {
     "slide_type": "slide"
    }
   },
   "source": [
    "# Objectives"
   ]
  },
  {
   "cell_type": "code",
   "execution_count": 9,
   "metadata": {
    "slideshow": {
     "slide_type": "subslide"
    }
   },
   "outputs": [],
   "source": [
    "def objecitve_function_rule(m):\n",
    "    return sum(m.selected_color[i] * m.color_value[i] for i in m.set_all_colors)"
   ]
  },
  {
   "cell_type": "code",
   "execution_count": 10,
   "metadata": {
    "slideshow": {
     "slide_type": "subslide"
    }
   },
   "outputs": [
    {
     "name": "stdout",
     "output_type": "stream",
     "text": [
      "objective_function : Size=1, Index=None, Active=True\n",
      "    Key  : Active : Sense    : Expression\n",
      "    None :   True : maximize : 80*selected_color[red] + 85*selected_color[green] + 80*selected_color[blue] + 40*selected_color[black]\n"
     ]
    }
   ],
   "source": [
    "m.objective_function = pyo.Objective(rule=objecitve_function_rule, sense=pyo.maximize)\n",
    "m.objective_function.pprint()"
   ]
  },
  {
   "cell_type": "markdown",
   "metadata": {
    "slideshow": {
     "slide_type": "slide"
    }
   },
   "source": [
    "# Constraints"
   ]
  },
  {
   "cell_type": "code",
   "execution_count": 11,
   "metadata": {
    "slideshow": {
     "slide_type": "subslide"
    }
   },
   "outputs": [],
   "source": [
    "def color_rule(m):\n",
    "    return sum(m.selected_color[i]*m.color_price[i] for i in m.set_all_colors) <= m.budget"
   ]
  },
  {
   "cell_type": "code",
   "execution_count": 12,
   "metadata": {
    "slideshow": {
     "slide_type": "subslide"
    }
   },
   "outputs": [
    {
     "name": "stdout",
     "output_type": "stream",
     "text": [
      "color_constraint : Size=1, Index=None, Active=True\n",
      "    Key  : Lower : Body                                                                                                   : Upper : Active\n",
      "    None :  -Inf : 57*selected_color[red] + 44*selected_color[green] + 44*selected_color[blue] + 40*selected_color[black] : 100.0 :   True\n"
     ]
    }
   ],
   "source": [
    "m.color_constraint = pyo.Constraint(rule=color_rule)\n",
    "m.color_constraint.pprint()"
   ]
  },
  {
   "cell_type": "markdown",
   "metadata": {
    "slideshow": {
     "slide_type": "slide"
    }
   },
   "source": [
    "# Solve the Model "
   ]
  },
  {
   "cell_type": "code",
   "execution_count": 13,
   "metadata": {
    "slideshow": {
     "slide_type": "subslide"
    }
   },
   "outputs": [
    {
     "name": "stdout",
     "output_type": "stream",
     "text": [
      "selected_color : Size=4, Index=set_all_colors\n",
      "    Key   : Lower : Value : Upper : Fixed : Stale : Domain\n",
      "    black :     0 :   0.0 :     1 : False : False : Boolean\n",
      "     blue :     0 :   1.0 :     1 : False : False : Boolean\n",
      "    green :     0 :   1.0 :     1 : False : False : Boolean\n",
      "      red :     0 :   0.0 :     1 : False : False : Boolean\n"
     ]
    }
   ],
   "source": [
    "from pyomo.core import *\n",
    "\n",
    "opt = pyomo.environ.SolverFactory('gurobi')\n",
    "\n",
    "result = opt.solve(m, options={'TimeLimit': 100})\n",
    "\n",
    "m.selected_color.pprint()"
   ]
  },
  {
   "cell_type": "markdown",
   "metadata": {
    "slideshow": {
     "slide_type": "slide"
    }
   },
   "source": [
    "# Repeated Solves"
   ]
  },
  {
   "cell_type": "code",
   "execution_count": 14,
   "metadata": {
    "scrolled": false,
    "slideshow": {
     "slide_type": "subslide"
    }
   },
   "outputs": [
    {
     "name": "stdout",
     "output_type": "stream",
     "text": [
      "\n",
      "===== iteration 0\n",
      "selected_color : Size=4, Index=set_all_colors\n",
      "    Key   : Lower : Value : Upper : Fixed : Stale : Domain\n",
      "    black :     0 :   1.0 :     1 : False : False : Boolean\n",
      "     blue :     0 :  -0.0 :     1 : False : False : Boolean\n",
      "    green :     0 :   1.0 :     1 : False : False : Boolean\n",
      "      red :     0 :  -0.0 :     1 : False : False : Boolean\n",
      "\n",
      "===== iteration 1\n",
      "selected_color : Size=4, Index=set_all_colors\n",
      "    Key   : Lower : Value : Upper : Fixed : Stale : Domain\n",
      "    black :     0 :   1.0 :     1 : False : False : Boolean\n",
      "     blue :     0 :   0.0 :     1 : False : False : Boolean\n",
      "    green :     0 :   0.0 :     1 : False : False : Boolean\n",
      "      red :     0 :   1.0 :     1 : False : False : Boolean\n"
     ]
    }
   ],
   "source": [
    "m.cuts = pyo.ConstraintList()\n",
    "\n",
    "for i in range(2):\n",
    "   expr = 0\n",
    "   for j in m.selected_color:\n",
    "       if pyo.value(m.selected_color[j]) < 0.5:\n",
    "           expr += m.selected_color[j]\n",
    "       else:\n",
    "           expr += (1 - m.selected_color[j])\n",
    "   m.cuts.add( expr >= 1 )\n",
    "   results = opt.solve(m)\n",
    "   print (\"\\n===== iteration\",i)\n",
    "   m.selected_color.pprint()"
   ]
  },
  {
   "cell_type": "markdown",
   "metadata": {
    "slideshow": {
     "slide_type": "slide"
    }
   },
   "source": [
    "# Stochastic Programming"
   ]
  },
  {
   "cell_type": "code",
   "execution_count": 15,
   "metadata": {
    "slideshow": {
     "slide_type": "subslide"
    }
   },
   "outputs": [],
   "source": [
    "del m.cuts  \n",
    "\n",
    "del m.objective_function\n",
    "\n",
    "del m.color_value"
   ]
  },
  {
   "cell_type": "code",
   "execution_count": 16,
   "metadata": {
    "slideshow": {
     "slide_type": "subslide"
    }
   },
   "outputs": [],
   "source": [
    "m.set_scenarios = pyo.Set(initialize=['happy', 'normal', 'sad'])\n",
    "\n",
    "def st_value_set(m, scenario_name, color_name):\n",
    "    scenario_dict = {'happy' : {'black': 40, 'blue': 80, 'green': 88, 'red': 100},\n",
    "                     'normal' : {'black': 40, 'blue': 80, 'green': 85, 'red': 80},\n",
    "                     'sad' : {'black': 100, 'blue': 80, 'green': 10, 'red': 80}}\n",
    "    return scenario_dict[scenario_name][color_name]\n",
    "\n",
    "m.st_color_value = Param(m.set_scenarios, m.set_all_colors, initialize=st_value_set,\n",
    "                         within=pyo.NonNegativeReals)"
   ]
  },
  {
   "cell_type": "markdown",
   "metadata": {
    "slideshow": {
     "slide_type": "subslide"
    }
   },
   "source": [
    "$$\\max \\sum\\limits_{s=1}^{3}p_s\\sum\\limits_{j=1}^n v_{sj}x_j$$\n",
    "$$s.t.\\;\\sum\\limits_{j=1}^nc_{j}x_j\\leq b$$\n",
    "$$x_j\\in  \\{0,1\\}\\;\\;\\;\\forall j = 1...n$$"
   ]
  },
  {
   "cell_type": "code",
   "execution_count": 17,
   "metadata": {
    "slideshow": {
     "slide_type": "subslide"
    }
   },
   "outputs": [],
   "source": [
    "def st_objecitve_function_rule(m):\n",
    "    return (1.0/3) * sum(m.selected_color[i] * m.st_color_value[j, i] \n",
    "                         for i in m.set_all_colors for j in m.set_scenarios)\n",
    "\n",
    "m.objective_function = pyo.Objective(rule=st_objecitve_function_rule, sense=pyo.maximize)"
   ]
  },
  {
   "cell_type": "code",
   "execution_count": 18,
   "metadata": {
    "slideshow": {
     "slide_type": "subslide"
    }
   },
   "outputs": [
    {
     "name": "stdout",
     "output_type": "stream",
     "text": [
      "selected_color : Size=4, Index=set_all_colors\n",
      "    Key   : Lower : Value : Upper : Fixed : Stale : Domain\n",
      "    black :     0 :   1.0 :     1 : False : False : Boolean\n",
      "     blue :     0 :   0.0 :     1 : False : False : Boolean\n",
      "    green :     0 :   0.0 :     1 : False : False : Boolean\n",
      "      red :     0 :   1.0 :     1 : False : False : Boolean\n"
     ]
    }
   ],
   "source": [
    "result = opt.solve(m, options={'TimeLimit': 100})\n",
    "\n",
    "m.selected_color.pprint()"
   ]
  },
  {
   "cell_type": "markdown",
   "metadata": {
    "slideshow": {
     "slide_type": "slide"
    }
   },
   "source": [
    "# Thank you! \n"
   ]
  }
 ],
 "metadata": {
  "celltoolbar": "Slideshow",
  "kernelspec": {
   "display_name": "Python 3",
   "language": "python",
   "name": "python3"
  },
  "language_info": {
   "codemirror_mode": {
    "name": "ipython",
    "version": 3
   },
   "file_extension": ".py",
   "mimetype": "text/x-python",
   "name": "python",
   "nbconvert_exporter": "python",
   "pygments_lexer": "ipython3",
   "version": "3.8.3"
  }
 },
 "nbformat": 4,
 "nbformat_minor": 5
}
